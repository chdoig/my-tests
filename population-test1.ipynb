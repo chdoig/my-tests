{
 "metadata": {
  "name": "",
  "signature": "sha256:592a1bba8ef58febf946f353ebb8057158850305f1c49430e38d2ace1a1e72d0"
 },
 "nbformat": 3,
 "nbformat_minor": 0,
 "worksheets": [
  {
   "cells": [
    {
     "cell_type": "code",
     "collapsed": false,
     "input": [
      "from __future__ import print_function\n",
      "\n",
      "import time\n",
      "from math import pi\n",
      "\n",
      "import requests\n",
      "from requests.exceptions import ConnectionError\n",
      "\n",
      "import pandas as pd\n",
      "\n",
      "from bokeh.objects import (Plot, ColumnDataSource, DataRange1d, FactorRange,\n",
      "    LinearAxis, CategoricalAxis, Grid, Glyph, Legend, SingleIntervalTicker, HoverTool)\n",
      "from bokeh.widgetobjects import Select, HBox, VBox\n",
      "from bokeh.glyphs import Line, Quad\n",
      "from bokeh.document import Document\n",
      "from bokeh.session import Session\n",
      "from bokeh.sampledata.population import load_population\n",
      "from bokeh.plotting import *\n",
      "\n",
      "#document = Document()\n",
      "#session = Session(load_from_config=False)\n",
      "#session.use_doc('population_server')\n",
      "#session.load_document(document)\n",
      "\n",
      "df = load_population()\n",
      "revision = 2012\n",
      "\n",
      "year = 2010\n",
      "location = \"World\"\n",
      "\n",
      "years = list(map(str, sorted(df.Year.unique())))\n",
      "locations = sorted(df.Location.unique())\n",
      "\n",
      "source_pyramid = ColumnDataSource(data=dict())\n",
      "\n",
      "def pyramid():\n",
      "    xdr = DataRange1d(sources=[source_pyramid.columns(\"male\"), source_pyramid.columns(\"female\")])\n",
      "    ydr = DataRange1d(sources=[source_pyramid.columns(\"groups\")])\n",
      "\n",
      "    plot = Plot(title=None, data_sources=[source_pyramid], x_range=xdr, y_range=ydr, plot_width=600, plot_height=600)\n",
      "\n",
      "    xaxis = LinearAxis(plot=plot, dimension=0)\n",
      "    yaxis = LinearAxis(plot=plot, dimension=1, ticker=SingleIntervalTicker(interval=5))\n",
      "\n",
      "    xgrid = Grid(plot=plot, dimension=0, axis=xaxis)\n",
      "    ygrid = Grid(plot=plot, dimension=1, axis=yaxis)\n",
      "\n",
      "    male_quad = Quad(left=\"male\", right=0, bottom=\"groups\", top=\"shifted\", fill_color=\"#3B8686\")\n",
      "    male_quad_glyph = Glyph(data_source=source_pyramid, xdata_range=xdr, ydata_range=ydr, glyph=male_quad)\n",
      "    plot.renderers.append(male_quad_glyph)\n",
      "\n",
      "    female_quad = Quad(left=0, right=\"female\", bottom=\"groups\", top=\"shifted\", fill_color=\"#CFF09E\")\n",
      "    female_quad_glyph = Glyph(data_source=source_pyramid, xdata_range=xdr, ydata_range=ydr, glyph=female_quad)\n",
      "    plot.renderers.append(female_quad_glyph)\n",
      "\n",
      "    legend = Legend(plot=plot, legends=dict(Male=[male_quad_glyph], Female=[female_quad_glyph]))\n",
      "    plot.renderers.append(legend)\n",
      "\n",
      "    return plot\n",
      "\n",
      "source_known = ColumnDataSource(data=dict(x=[], y=[]))\n",
      "source_predicted = ColumnDataSource(data=dict(x=[], y=[]))\n",
      "\n",
      "def population():\n",
      "    xdr = FactorRange(factors=years)\n",
      "    ydr = DataRange1d(sources=[source_known.columns(\"y\"), source_predicted.columns(\"y\")])\n",
      "\n",
      "    plot = Plot(title=None, data_sources=[source_known, source_predicted], x_range=xdr, y_range=ydr, plot_width=800, plot_height=200)\n",
      "\n",
      "    xaxis = CategoricalAxis(plot=plot, dimension=0, major_label_orientation=pi/4)\n",
      "    # yaxis = LinearAxis(plot=plot, dimension=1, ...)\n",
      "\n",
      "    line_known = Line(x=\"x\", y=\"y\", line_color=\"violet\", line_width=2)\n",
      "    line_known_glyph = Glyph(data_source=source_known, xdata_range=xdr, ydata_range=ydr, glyph=line_known)\n",
      "    plot.renderers.append(line_known_glyph)\n",
      "\n",
      "    line_predicted = Line(x=\"x\", y=\"y\", line_color=\"violet\", line_width=2, line_dash=\"dashed\")\n",
      "    line_predicted_glyph = Glyph(data_source=source_predicted, xdata_range=xdr, ydata_range=ydr, glyph=line_predicted)\n",
      "    plot.renderers.append(line_predicted_glyph)\n",
      "\n",
      "    legend = Legend(plot=plot, orientation=\"bottom_right\", legends=dict(known=[line_known_glyph], predicted=[line_predicted_glyph]))\n",
      "    plot.renderers.append(legend)\n",
      "\n",
      "    return plot\n",
      "\n",
      "def update_pyramid():\n",
      "    pyramid = df[(df.Location == location) & (df.Year == year)]\n",
      "\n",
      "    male = pyramid[pyramid.Sex == \"Male\"]\n",
      "    female = pyramid[pyramid.Sex == \"Female\"]\n",
      "\n",
      "    total = male.Value.sum() + female.Value.sum()\n",
      "\n",
      "    male_percent = -male.Value/total\n",
      "    female_percent = female.Value/total\n",
      "\n",
      "    groups = male.AgeGrpStart.tolist()\n",
      "    shifted = groups[1:] + [groups[-1] + 5]\n",
      "\n",
      "    source_pyramid.data = dict(\n",
      "        groups=groups,\n",
      "        shifted=shifted,\n",
      "        male=male_percent,\n",
      "        female=female_percent,\n",
      "    )\n",
      "\n",
      "def update_population():\n",
      "    population = df[df.Location == location].groupby(df.Year).Value.sum()\n",
      "    aligned_revision = revision//10 * 10\n",
      "\n",
      "    known = population[population.index <= aligned_revision]\n",
      "    predicted = population[population.index >= aligned_revision]\n",
      "\n",
      "    source_known.data = dict(x=known.index.map(str), y=known.values)\n",
      "    source_predicted.data = dict(x=predicted.index.map(str), y=predicted.values)\n",
      "\n",
      "def update_data():\n",
      "    update_population()\n",
      "    update_pyramid()\n",
      "    session.store_document(document)\n",
      "\n",
      "def on_year_change(obj, attr, old, new):\n",
      "    global year\n",
      "    year = int(new)\n",
      "    update_data()\n",
      "\n",
      "def on_location_change(obj, attr, old, new):\n",
      "    global location\n",
      "    location = new\n",
      "    update_data()\n",
      "\n",
      "def layout():\n",
      "    year_select = Select(title=\"Year:\", value=\"2010\", options=years)\n",
      "    location_select = Select(title=\"Location:\", value=\"World\", options=locations)\n",
      "\n",
      "    year_select.on_change('value', on_year_change)\n",
      "    location_select.on_change('value', on_location_change)\n",
      "\n",
      "    controls = HBox(children=[year_select, location_select])\n",
      "    layout = VBox(children=[controls, pyramid(), population()])\n",
      "\n",
      "    return layout\n",
      "\n",
      "#document.add(layout())\n",
      "#update_data()\n",
      "\n",
      "output_notebook(url=\"default\")"
     ],
     "language": "python",
     "metadata": {},
     "outputs": [
      {
       "output_type": "stream",
       "stream": "stdout",
       "text": [
        "Using saved session configuration for http://localhost:5006/\n",
        "To override, pass 'load_from_config=False' to Session\n"
       ]
      },
      {
       "output_type": "stream",
       "stream": "stderr",
       "text": [
        "/Users/Christine/.virtualenvs/python_science/lib/python2.7/site-packages/pandas/io/excel.py:626: UserWarning: Installed openpyxl is not supported at this time. Use >=1.6.1 and <2.0.0.\n",
        "  .format(openpyxl_compat.start_ver, openpyxl_compat.stop_ver))\n"
       ]
      }
     ],
     "prompt_number": 1
    },
    {
     "cell_type": "code",
     "collapsed": false,
     "input": [
      "show()"
     ],
     "language": "python",
     "metadata": {},
     "outputs": [
      {
       "output_type": "stream",
       "stream": "stdout",
       "text": [
        "None\n"
       ]
      },
      {
       "output_type": "stream",
       "stream": "stderr",
       "text": [
        "/Users/Christine/.virtualenvs/python_science/lib/python2.7/site-packages/bokeh/plotting.py:227: UserWarning: No current plot to show. Use renderer functions (circle, rect, etc.) to create a current plot (see http://bokeh.pydata.org/index.html)\n",
        "  warnings.warn(\"No current plot to show. Use renderer functions (circle, rect, etc.) to create a current plot (see http://bokeh.pydata.org/index.html)\")\n"
       ]
      }
     ],
     "prompt_number": 2
    },
    {
     "cell_type": "code",
     "collapsed": false,
     "input": [
      "layout()"
     ],
     "language": "python",
     "metadata": {},
     "outputs": [
      {
       "metadata": {},
       "output_type": "pyout",
       "prompt_number": 3,
       "text": [
        "<bokeh.widgetobjects.VBox at 0x1063dd4d0>"
       ]
      }
     ],
     "prompt_number": 3
    },
    {
     "cell_type": "code",
     "collapsed": false,
     "input": [
      "myplot=population()\n",
      "myplot2=pyramid()"
     ],
     "language": "python",
     "metadata": {},
     "outputs": [],
     "prompt_number": 4
    },
    {
     "cell_type": "code",
     "collapsed": false,
     "input": [
      "population()"
     ],
     "language": "python",
     "metadata": {},
     "outputs": [
      {
       "metadata": {},
       "output_type": "pyout",
       "prompt_number": 5,
       "text": [
        "<bokeh.objects.Plot at 0x1063e4050>"
       ]
      }
     ],
     "prompt_number": 5
    },
    {
     "cell_type": "code",
     "collapsed": false,
     "input": [
      "show(myplot)"
     ],
     "language": "python",
     "metadata": {},
     "outputs": [
      {
       "output_type": "stream",
       "stream": "stdout",
       "text": [
        "Plot, ViewModel:Plot, ref _id: f94923a0-d033-440b-b2e2-17fc797c574c\n"
       ]
      },
      {
       "html": [
        "<script\n",
        "    src=\"http://localhost:5006/bokeh/autoload.js/606ec570-d93f-4ef7-ad5b-9ab8e2d25b33\"\n",
        "    id=\"606ec570-d93f-4ef7-ad5b-9ab8e2d25b33\"\n",
        "    async=\"true\"\n",
        "    data-bokeh-data=\"server\"\n",
        "    data-bokeh-modelid=\"f94923a0-d033-440b-b2e2-17fc797c574c\"\n",
        "    data-bokeh-modeltype=\"Plot\"\n",
        "    data-bokeh-root-url=\"http://localhost:5006/\"\n",
        "    data-bokeh-docid=\"c01c0f67-74e4-4c06-9a6f-5dbd945845c4\"\n",
        "    data-bokeh-docapikey=\"0446ea98-d0c0-4854-89c9-c6af74f9c003\"\n",
        "    data-bokeh-conn-string=\"ws://localhost:5006/bokeh/sub\"\n",
        "></script>\n"
       ],
       "metadata": {},
       "output_type": "display_data"
      }
     ],
     "prompt_number": 6
    },
    {
     "cell_type": "code",
     "collapsed": false,
     "input": [
      "show(myplot2)"
     ],
     "language": "python",
     "metadata": {},
     "outputs": [
      {
       "output_type": "stream",
       "stream": "stdout",
       "text": [
        "Plot, ViewModel:Plot, ref _id: af28b931-c3ca-451a-99aa-96e7ef17189e\n"
       ]
      },
      {
       "html": [
        "<script\n",
        "    src=\"http://localhost:5006/bokeh/autoload.js/00b936e0-7da1-4b8a-a8de-b3e5c3a5c91b\"\n",
        "    id=\"00b936e0-7da1-4b8a-a8de-b3e5c3a5c91b\"\n",
        "    async=\"true\"\n",
        "    data-bokeh-data=\"server\"\n",
        "    data-bokeh-modelid=\"af28b931-c3ca-451a-99aa-96e7ef17189e\"\n",
        "    data-bokeh-modeltype=\"Plot\"\n",
        "    data-bokeh-root-url=\"http://localhost:5006/\"\n",
        "    data-bokeh-docid=\"c01c0f67-74e4-4c06-9a6f-5dbd945845c4\"\n",
        "    data-bokeh-docapikey=\"0446ea98-d0c0-4854-89c9-c6af74f9c003\"\n",
        "    data-bokeh-conn-string=\"ws://localhost:5006/bokeh/sub\"\n",
        "></script>\n"
       ],
       "metadata": {},
       "output_type": "display_data"
      }
     ],
     "prompt_number": 7
    }
   ],
   "metadata": {}
  }
 ]
}