{
 "metadata": {
  "name": "",
  "signature": "sha256:1b5edac5177fcfaea1999bb5968e668150ad7180902d6e91481153afdee523f3"
 },
 "nbformat": 3,
 "nbformat_minor": 0,
 "worksheets": [
  {
   "cells": [
    {
     "cell_type": "code",
     "collapsed": false,
     "input": [
      "from __future__ import print_function\n",
      "\n",
      "import time\n",
      "from math import pi\n",
      "\n",
      "import requests\n",
      "from requests.exceptions import ConnectionError\n",
      "\n",
      "import pandas as pd\n",
      "\n",
      "from bokeh.objects import (Plot, ColumnDataSource, DataRange1d, FactorRange,\n",
      "    LinearAxis, CategoricalAxis, Grid, Glyph, Legend, SingleIntervalTicker, HoverTool)\n",
      "from bokeh.widgetobjects import Select, HBox, VBox\n",
      "from bokeh.glyphs import Line, Quad\n",
      "from bokeh.document import Document\n",
      "from bokeh.session import Session\n",
      "from bokeh.sampledata.population import load_population\n",
      "from bokeh.plotting import *\n",
      "\n",
      "document = Document()\n",
      "session = Session()\n",
      "session.use_doc('population_server')\n",
      "session.load_document(document)\n",
      "\n",
      "df = load_population()\n",
      "revision = 2012\n",
      "\n",
      "year = 2010\n",
      "location = \"World\"\n",
      "\n",
      "years = list(map(str, sorted(df.Year.unique())))\n",
      "locations = sorted(df.Location.unique())\n",
      "\n",
      "source_pyramid = ColumnDataSource(data=dict())\n",
      "\n",
      "def pyramid():\n",
      "    xdr = DataRange1d(sources=[source_pyramid.columns(\"male\"), source_pyramid.columns(\"female\")])\n",
      "    ydr = DataRange1d(sources=[source_pyramid.columns(\"groups\")])\n",
      "\n",
      "    plot = Plot(title=None, data_sources=[source_pyramid], x_range=xdr, y_range=ydr, plot_width=600, plot_height=600)\n",
      "\n",
      "    xaxis = LinearAxis(plot=plot, dimension=0)\n",
      "    yaxis = LinearAxis(plot=plot, dimension=1, ticker=SingleIntervalTicker(interval=5))\n",
      "\n",
      "    xgrid = Grid(plot=plot, dimension=0, axis=xaxis)\n",
      "    ygrid = Grid(plot=plot, dimension=1, axis=yaxis)\n",
      "\n",
      "    male_quad = Quad(left=\"male\", right=0, bottom=\"groups\", top=\"shifted\", fill_color=\"#3B8686\")\n",
      "    male_quad_glyph = Glyph(data_source=source_pyramid, xdata_range=xdr, ydata_range=ydr, glyph=male_quad)\n",
      "    plot.renderers.append(male_quad_glyph)\n",
      "\n",
      "    female_quad = Quad(left=0, right=\"female\", bottom=\"groups\", top=\"shifted\", fill_color=\"#CFF09E\")\n",
      "    female_quad_glyph = Glyph(data_source=source_pyramid, xdata_range=xdr, ydata_range=ydr, glyph=female_quad)\n",
      "    plot.renderers.append(female_quad_glyph)\n",
      "\n",
      "    legend = Legend(plot=plot, legends=dict(Male=[male_quad_glyph], Female=[female_quad_glyph]))\n",
      "    plot.renderers.append(legend)\n",
      "\n",
      "    return plot\n",
      "\n",
      "source_known = ColumnDataSource(data=dict(x=[], y=[]))\n",
      "source_predicted = ColumnDataSource(data=dict(x=[], y=[]))\n",
      "\n",
      "def population():\n",
      "    xdr = FactorRange(factors=years)\n",
      "    ydr = DataRange1d(sources=[source_known.columns(\"y\"), source_predicted.columns(\"y\")])\n",
      "\n",
      "    plot = Plot(title=None, data_sources=[source_known, source_predicted], x_range=xdr, y_range=ydr, plot_width=800, plot_height=200)\n",
      "\n",
      "    xaxis = CategoricalAxis(plot=plot, dimension=0, major_label_orientation=pi/4)\n",
      "    # yaxis = LinearAxis(plot=plot, dimension=1, ...)\n",
      "\n",
      "    line_known = Line(x=\"x\", y=\"y\", line_color=\"violet\", line_width=2)\n",
      "    line_known_glyph = Glyph(data_source=source_known, xdata_range=xdr, ydata_range=ydr, glyph=line_known)\n",
      "    plot.renderers.append(line_known_glyph)\n",
      "\n",
      "    line_predicted = Line(x=\"x\", y=\"y\", line_color=\"violet\", line_width=2, line_dash=\"dashed\")\n",
      "    line_predicted_glyph = Glyph(data_source=source_predicted, xdata_range=xdr, ydata_range=ydr, glyph=line_predicted)\n",
      "    plot.renderers.append(line_predicted_glyph)\n",
      "\n",
      "    legend = Legend(plot=plot, orientation=\"bottom_right\", legends=dict(known=[line_known_glyph], predicted=[line_predicted_glyph]))\n",
      "    plot.renderers.append(legend)\n",
      "\n",
      "    return plot\n",
      "\n",
      "def update_pyramid():\n",
      "    pyramid = df[(df.Location == location) & (df.Year == year)]\n",
      "\n",
      "    male = pyramid[pyramid.Sex == \"Male\"]\n",
      "    female = pyramid[pyramid.Sex == \"Female\"]\n",
      "\n",
      "    total = male.Value.sum() + female.Value.sum()\n",
      "\n",
      "    male_percent = -male.Value/total\n",
      "    female_percent = female.Value/total\n",
      "\n",
      "    groups = male.AgeGrpStart.tolist()\n",
      "    shifted = groups[1:] + [groups[-1] + 5]\n",
      "\n",
      "    source_pyramid.data = dict(\n",
      "        groups=groups,\n",
      "        shifted=shifted,\n",
      "        male=male_percent,\n",
      "        female=female_percent,\n",
      "    )\n",
      "\n",
      "def update_population():\n",
      "    population = df[df.Location == location].groupby(df.Year).Value.sum()\n",
      "    aligned_revision = revision//10 * 10\n",
      "\n",
      "    known = population[population.index <= aligned_revision]\n",
      "    predicted = population[population.index >= aligned_revision]\n",
      "\n",
      "    source_known.data = dict(x=known.index.map(str), y=known.values)\n",
      "    source_predicted.data = dict(x=predicted.index.map(str), y=predicted.values)\n",
      "\n",
      "def update_data():\n",
      "    update_population()\n",
      "    update_pyramid()\n",
      "    session.store_document(document)\n",
      "\n",
      "def on_year_change(obj, attr, old, new):\n",
      "    global year\n",
      "    year = int(new)\n",
      "    update_data()\n",
      "\n",
      "def on_location_change(obj, attr, old, new):\n",
      "    global location\n",
      "    location = new\n",
      "    update_data()\n",
      "\n",
      "def layout():\n",
      "    year_select = Select(title=\"Year:\", value=\"2010\", options=years)\n",
      "    location_select = Select(title=\"Location:\", value=\"World\", options=locations)\n",
      "\n",
      "    year_select.on_change('value', on_year_change)\n",
      "    location_select.on_change('value', on_location_change)\n",
      "\n",
      "    controls = HBox(children=[year_select, location_select])\n",
      "    layout = VBox(children=[controls, pyramid(), population()])\n",
      "\n",
      "    return layout\n",
      "\n",
      "document.add(layout())\n",
      "update_data()\n",
      "\n",
      "output_notebook(url=\"default\", session=session)"
     ],
     "language": "python",
     "metadata": {},
     "outputs": [
      {
       "output_type": "stream",
       "stream": "stdout",
       "text": [
        "Using saved session configuration for http://localhost:5006/\n",
        "To override, pass 'load_from_config=False' to Session\n"
       ]
      },
      {
       "output_type": "stream",
       "stream": "stderr",
       "text": [
        "/Users/Christine/.virtualenvs/python_science/lib/python2.7/site-packages/pandas/io/excel.py:626: UserWarning: Installed openpyxl is not supported at this time. Use >=1.6.1 and <2.0.0.\n",
        "  .format(openpyxl_compat.start_ver, openpyxl_compat.stop_ver))\n"
       ]
      }
     ],
     "prompt_number": 1
    },
    {
     "cell_type": "code",
     "collapsed": false,
     "input": [
      "show()"
     ],
     "language": "python",
     "metadata": {},
     "outputs": [
      {
       "output_type": "stream",
       "stream": "stdout",
       "text": [
        "None\n"
       ]
      },
      {
       "output_type": "stream",
       "stream": "stderr",
       "text": [
        "/Users/Christine/.virtualenvs/python_science/lib/python2.7/site-packages/bokeh/plotting.py:227: UserWarning: No current plot to show. Use renderer functions (circle, rect, etc.) to create a current plot (see http://bokeh.pydata.org/index.html)\n",
        "  warnings.warn(\"No current plot to show. Use renderer functions (circle, rect, etc.) to create a current plot (see http://bokeh.pydata.org/index.html)\")\n"
       ]
      }
     ],
     "prompt_number": 2
    },
    {
     "cell_type": "code",
     "collapsed": false,
     "input": [
      "layout()"
     ],
     "language": "python",
     "metadata": {},
     "outputs": [
      {
       "metadata": {},
       "output_type": "pyout",
       "prompt_number": 3,
       "text": [
        "<bokeh.widgetobjects.VBox at 0x10605f850>"
       ]
      }
     ],
     "prompt_number": 3
    },
    {
     "cell_type": "code",
     "collapsed": false,
     "input": [
      "myplot=population()\n",
      "myplot2=pyramid()"
     ],
     "language": "python",
     "metadata": {},
     "outputs": [],
     "prompt_number": 4
    },
    {
     "cell_type": "code",
     "collapsed": false,
     "input": [
      "population()"
     ],
     "language": "python",
     "metadata": {},
     "outputs": [
      {
       "metadata": {},
       "output_type": "pyout",
       "prompt_number": 5,
       "text": [
        "<bokeh.objects.Plot at 0x106067490>"
       ]
      }
     ],
     "prompt_number": 5
    },
    {
     "cell_type": "code",
     "collapsed": false,
     "input": [
      "show(myplot)"
     ],
     "language": "python",
     "metadata": {},
     "outputs": [
      {
       "output_type": "stream",
       "stream": "stdout",
       "text": [
        "Plot, ViewModel:Plot, ref _id: 166daca6-c151-4bde-bf33-a64390f548f3\n"
       ]
      },
      {
       "html": [
        "<script type=\"text/javascript\">\n",
        "        $(function() {\n",
        "            var modelid = \"166daca6-c151-4bde-bf33-a64390f548f3\";\n",
        "            var modeltype = \"Plot\";\n",
        "            var elementid = \"18f7cab8-7311-4f91-91c6-cb8e6fdbe556\";\n",
        "            console.log(\"  modeltype:\", modeltype);\n",
        "            console.log(\"  modelid:\", modelid);\n",
        "            console.log(\"  elementid:\", elementid);\n",
        "            var all_models = [{\"attributes\": {\"doc\": null, \"id\": \"077d77ce-72b6-4198-b309-bae41a9ab505\", \"factors\": [\"1950\", \"1955\", \"1960\", \"1965\", \"1970\", \"1975\", \"1980\", \"1985\", \"1990\", \"1995\", \"2000\", \"2005\", \"2010\", \"2015\", \"2020\", \"2025\", \"2030\", \"2035\", \"2040\", \"2045\", \"2050\", \"2055\", \"2060\", \"2065\", \"2070\", \"2075\", \"2080\", \"2085\", \"2090\", \"2095\", \"2100\"]}, \"type\": \"FactorRange\", \"id\": \"077d77ce-72b6-4198-b309-bae41a9ab505\"}, {\"attributes\": {\"data_source\": {\"type\": \"ColumnDataSource\", \"id\": \"1d448f24-1893-45ab-bae8-5b03e5970838\"}, \"name\": null, \"server_data_source\": null, \"doc\": null, \"xdata_range\": {\"type\": \"FactorRange\", \"id\": \"077d77ce-72b6-4198-b309-bae41a9ab505\"}, \"ydata_range\": {\"type\": \"DataRange1d\", \"id\": \"c74f03e7-6c32-4d46-b027-7030e64baa31\"}, \"glyphspec\": {\"line_color\": {\"value\": \"violet\"}, \"line_width\": {\"units\": \"data\", \"value\": 2}, \"line_alpha\": {\"units\": \"data\", \"field\": 1.0}, \"y\": {\"units\": \"data\", \"field\": \"y\"}, \"line_dash\": [6], \"x\": {\"units\": \"data\", \"field\": \"x\"}, \"type\": \"line\"}, \"id\": \"af166ad7-52ff-49f5-ad46-1994717b1ba3\"}, \"type\": \"Glyph\", \"id\": \"af166ad7-52ff-49f5-ad46-1994717b1ba3\"}, {\"attributes\": {\"doc\": null, \"id\": \"995d006f-f3e3-47ef-a204-e1d143621579\"}, \"type\": \"CategoricalTickFormatter\", \"id\": \"995d006f-f3e3-47ef-a204-e1d143621579\"}, {\"attributes\": {\"column_names\": [\"y\", \"x\"], \"doc\": null, \"selected\": [], \"discrete_ranges\": {}, \"cont_ranges\": {}, \"data\": {\"y\": [6916183482.0, 7324782225.0, 7716749042.0, 8083412759.0, 8424937474.0, 8743446952.0, 9038687151.0, 9308438178.0, 9550944891.0, 9766475107.0, 9957398588.0, 10127006921.0, 10277339229.0, 10409149043.0, 10524161005.0, 10626467422.0, 10717401021.0, 10794252256.0, 10853848570.0], \"x\": [\"2010\", \"2015\", \"2020\", \"2025\", \"2030\", \"2035\", \"2040\", \"2045\", \"2050\", \"2055\", \"2060\", \"2065\", \"2070\", \"2075\", \"2080\", \"2085\", \"2090\", \"2095\", \"2100\"]}, \"id\": \"1d448f24-1893-45ab-bae8-5b03e5970838\"}, \"type\": \"ColumnDataSource\", \"id\": \"1d448f24-1893-45ab-bae8-5b03e5970838\"}, {\"attributes\": {\"data_source\": {\"type\": \"ColumnDataSource\", \"id\": \"f2bbb8df-b563-4559-917e-715fefde841b\"}, \"name\": null, \"server_data_source\": null, \"doc\": null, \"xdata_range\": {\"type\": \"FactorRange\", \"id\": \"077d77ce-72b6-4198-b309-bae41a9ab505\"}, \"ydata_range\": {\"type\": \"DataRange1d\", \"id\": \"c74f03e7-6c32-4d46-b027-7030e64baa31\"}, \"glyphspec\": {\"line_color\": {\"value\": \"violet\"}, \"line_width\": {\"units\": \"data\", \"value\": 2}, \"line_alpha\": {\"units\": \"data\", \"field\": 1.0}, \"y\": {\"units\": \"data\", \"field\": \"y\"}, \"x\": {\"units\": \"data\", \"field\": \"x\"}, \"type\": \"line\"}, \"id\": \"e34ab6b5-f7d7-4da3-babe-0fd78e06b1d1\"}, \"type\": \"Glyph\", \"id\": \"e34ab6b5-f7d7-4da3-babe-0fd78e06b1d1\"}, {\"attributes\": {\"sources\": [{\"source\": {\"type\": \"ColumnDataSource\", \"id\": \"f2bbb8df-b563-4559-917e-715fefde841b\"}, \"columns\": [\"y\"]}, {\"source\": {\"type\": \"ColumnDataSource\", \"id\": \"1d448f24-1893-45ab-bae8-5b03e5970838\"}, \"columns\": [\"y\"]}], \"id\": \"c74f03e7-6c32-4d46-b027-7030e64baa31\", \"doc\": null}, \"type\": \"DataRange1d\", \"id\": \"c74f03e7-6c32-4d46-b027-7030e64baa31\"}, {\"attributes\": {\"plot\": {\"type\": \"Plot\", \"id\": \"166daca6-c151-4bde-bf33-a64390f548f3\"}, \"legends\": {\"known\": [{\"type\": \"Glyph\", \"id\": \"e34ab6b5-f7d7-4da3-babe-0fd78e06b1d1\"}], \"predicted\": [{\"type\": \"Glyph\", \"id\": \"af166ad7-52ff-49f5-ad46-1994717b1ba3\"}]}, \"doc\": null, \"id\": \"6dfb945c-b379-4f1d-b55b-acd053a73fe1\", \"orientation\": \"bottom_right\"}, \"type\": \"Legend\", \"id\": \"6dfb945c-b379-4f1d-b55b-acd053a73fe1\"}, {\"attributes\": {\"plot\": {\"type\": \"Plot\", \"id\": \"166daca6-c151-4bde-bf33-a64390f548f3\"}, \"doc\": null, \"id\": \"bffbfde4-c7c9-4dd7-9312-b2b57a17bb5b\", \"major_label_orientation\": 0.7853981633974483, \"formatter\": {\"type\": \"CategoricalTickFormatter\", \"id\": \"995d006f-f3e3-47ef-a204-e1d143621579\"}, \"ticker\": {\"type\": \"CategoricalTicker\", \"id\": \"12740ed0-94dd-491b-b8b9-2dce910f9309\"}, \"dimension\": 0}, \"type\": \"CategoricalAxis\", \"id\": \"bffbfde4-c7c9-4dd7-9312-b2b57a17bb5b\"}, {\"attributes\": {\"column_names\": [\"y\", \"x\"], \"doc\": null, \"selected\": [], \"discrete_ranges\": {}, \"cont_ranges\": {}, \"data\": {\"y\": [2525778669.0, 2761650981.0, 3026002942.0, 3329122479.0, 3691172616.0, 4071020434.0, 4449048798.0, 4863601517.0, 5320816667.0, 5741822412.0, 6127700428.0, 6514094605.0, 6916183482.0], \"x\": [\"1950\", \"1955\", \"1960\", \"1965\", \"1970\", \"1975\", \"1980\", \"1985\", \"1990\", \"1995\", \"2000\", \"2005\", \"2010\"]}, \"id\": \"f2bbb8df-b563-4559-917e-715fefde841b\"}, \"type\": \"ColumnDataSource\", \"id\": \"f2bbb8df-b563-4559-917e-715fefde841b\"}, {\"attributes\": {\"doc\": null, \"id\": \"12740ed0-94dd-491b-b8b9-2dce910f9309\"}, \"type\": \"CategoricalTicker\", \"id\": \"12740ed0-94dd-491b-b8b9-2dce910f9309\"}, {\"attributes\": {\"x_range\": {\"type\": \"FactorRange\", \"id\": \"077d77ce-72b6-4198-b309-bae41a9ab505\"}, \"data_sources\": [{\"type\": \"ColumnDataSource\", \"id\": \"f2bbb8df-b563-4559-917e-715fefde841b\"}, {\"type\": \"ColumnDataSource\", \"id\": \"1d448f24-1893-45ab-bae8-5b03e5970838\"}], \"y_range\": {\"type\": \"DataRange1d\", \"id\": \"c74f03e7-6c32-4d46-b027-7030e64baa31\"}, \"outer_width\": 800, \"renderers\": [{\"type\": \"CategoricalAxis\", \"id\": \"bffbfde4-c7c9-4dd7-9312-b2b57a17bb5b\"}, {\"type\": \"Glyph\", \"id\": \"e34ab6b5-f7d7-4da3-babe-0fd78e06b1d1\"}, {\"type\": \"Glyph\", \"id\": \"af166ad7-52ff-49f5-ad46-1994717b1ba3\"}, {\"type\": \"Legend\", \"id\": \"6dfb945c-b379-4f1d-b55b-acd053a73fe1\"}], \"plot_width\": 800, \"outer_height\": 200, \"plot_height\": 200, \"doc\": null, \"canvas_height\": 200, \"id\": \"166daca6-c151-4bde-bf33-a64390f548f3\", \"title\": null, \"tools\": [], \"canvas_width\": 800}, \"type\": \"Plot\", \"id\": \"166daca6-c151-4bde-bf33-a64390f548f3\"}];\n",
        "            Bokeh.load_models(all_models);\n",
        "            var model = Bokeh.Collections(modeltype).get(modelid);\n",
        "            var view = new model.default_view({model: model, el: '#18f7cab8-7311-4f91-91c6-cb8e6fdbe556'});\n",
        "        });\n",
        "    </script>\n",
        "<div class=\"plotdiv\" id=\"18f7cab8-7311-4f91-91c6-cb8e6fdbe556\"></div>\n",
        "\n"
       ],
       "metadata": {},
       "output_type": "display_data"
      }
     ],
     "prompt_number": 6
    },
    {
     "cell_type": "code",
     "collapsed": false,
     "input": [
      "show(myplot2)"
     ],
     "language": "python",
     "metadata": {},
     "outputs": [
      {
       "output_type": "stream",
       "stream": "stdout",
       "text": [
        "Plot, ViewModel:Plot, ref _id: bb97997b-ef3e-40db-a4bd-a59e2abab32e\n"
       ]
      },
      {
       "html": [
        "<script type=\"text/javascript\">\n",
        "        $(function() {\n",
        "            var modelid = \"bb97997b-ef3e-40db-a4bd-a59e2abab32e\";\n",
        "            var modeltype = \"Plot\";\n",
        "            var elementid = \"8da72fbc-08c5-4982-a8f2-005bc40c86b1\";\n",
        "            console.log(\"  modeltype:\", modeltype);\n",
        "            console.log(\"  modelid:\", modelid);\n",
        "            console.log(\"  elementid:\", elementid);\n",
        "            var all_models = [{\"attributes\": {\"plot\": {\"type\": \"Plot\", \"id\": \"bb97997b-ef3e-40db-a4bd-a59e2abab32e\"}, \"legends\": {\"Male\": [{\"type\": \"Glyph\", \"id\": \"d7336cd5-ba97-4bdd-84de-8baf9305eb07\"}], \"Female\": [{\"type\": \"Glyph\", \"id\": \"ff2c2b1c-4a94-444e-b6a3-551a84f5153d\"}]}, \"doc\": null, \"id\": \"eb261736-d00c-4dfd-91f9-bbc2dfc37f76\"}, \"type\": \"Legend\", \"id\": \"eb261736-d00c-4dfd-91f9-bbc2dfc37f76\"}, {\"attributes\": {\"column_names\": [], \"doc\": null, \"selected\": [], \"discrete_ranges\": {}, \"cont_ranges\": {}, \"data\": {\"shifted\": [5, 10, 15, 20, 25, 30, 35, 40, 45, 50, 55, 60, 65, 70, 75, 80, 85, 90, 95, 100, 105], \"male\": [-0.04803909900087292, -0.04540565729889929, -0.044258523186473206, -0.04512990752954116, -0.04566083098025016, -0.04113504633594971, -0.036912796148978744, -0.035764593528173835, -0.03358340963690472, -0.029925685537213167, -0.02548709811686861, -0.0222401164457713, -0.016454090076727088, -0.012153044553944354, -0.009524030727558423, -0.006417278129695518, -0.0037278555531531803, -0.0015870034432380318, -0.0004459969877936214, -8.918762806183171e-05, -1.1891674102349965e-05], \"female\": [0.044809952888985545, 0.04241441233643662, 0.04143847799091689, 0.04249876362664145, 0.04360719460160788, 0.039761899278079334, 0.03583974219959828, 0.03491383356564339, 0.03282628657710906, 0.029661263547143123, 0.025493713615158828, 0.022602938803872527, 0.017429448671182606, 0.013404778118059766, 0.011275815513420759, 0.00826426556622692, 0.005577334248056318, 0.002924195700220435, 0.0009962809717141046, 0.00026709976749572883, 3.915989225920308e-05], \"groups\": [0, 5, 10, 15, 20, 25, 30, 35, 40, 45, 50, 55, 60, 65, 70, 75, 80, 85, 90, 95, 100]}, \"id\": \"99c1aa42-68f7-4101-997e-aa67dc54e402\"}, \"type\": \"ColumnDataSource\", \"id\": \"99c1aa42-68f7-4101-997e-aa67dc54e402\"}, {\"attributes\": {\"sources\": [{\"source\": {\"type\": \"ColumnDataSource\", \"id\": \"99c1aa42-68f7-4101-997e-aa67dc54e402\"}, \"columns\": [\"male\"]}, {\"source\": {\"type\": \"ColumnDataSource\", \"id\": \"99c1aa42-68f7-4101-997e-aa67dc54e402\"}, \"columns\": [\"female\"]}], \"id\": \"a23671df-a99f-4d94-a953-d7a6406213d3\", \"doc\": null}, \"type\": \"DataRange1d\", \"id\": \"a23671df-a99f-4d94-a953-d7a6406213d3\"}, {\"attributes\": {\"plot\": {\"type\": \"Plot\", \"id\": \"bb97997b-ef3e-40db-a4bd-a59e2abab32e\"}, \"doc\": null, \"dimension\": 1, \"formatter\": {\"type\": \"BasicTickFormatter\", \"id\": \"0e7698d2-d737-4778-9a65-bc8444010a4e\"}, \"ticker\": {\"type\": \"SingleIntervalTicker\", \"id\": \"b6fc9347-0da4-4030-a101-5fad71c2d967\"}, \"id\": \"7c1b930e-9b12-4dff-b39a-a7e1fed20cbd\"}, \"type\": \"LinearAxis\", \"id\": \"7c1b930e-9b12-4dff-b39a-a7e1fed20cbd\"}, {\"attributes\": {\"plot\": {\"type\": \"Plot\", \"id\": \"bb97997b-ef3e-40db-a4bd-a59e2abab32e\"}, \"doc\": null, \"axis\": {\"type\": \"LinearAxis\", \"id\": \"f447de69-6bd4-4ab8-bb17-327155c50bb9\"}, \"id\": \"f7e09be3-d14e-4e9a-8ab0-ced8c46ef0a2\", \"dimension\": 0}, \"type\": \"Grid\", \"id\": \"f7e09be3-d14e-4e9a-8ab0-ced8c46ef0a2\"}, {\"attributes\": {\"sources\": [{\"source\": {\"type\": \"ColumnDataSource\", \"id\": \"99c1aa42-68f7-4101-997e-aa67dc54e402\"}, \"columns\": [\"groups\"]}], \"id\": \"c95e00e7-36d4-49d6-ad35-cf0bf4724b1a\", \"doc\": null}, \"type\": \"DataRange1d\", \"id\": \"c95e00e7-36d4-49d6-ad35-cf0bf4724b1a\"}, {\"attributes\": {\"doc\": null, \"id\": \"b6fc9347-0da4-4030-a101-5fad71c2d967\", \"interval\": 5}, \"type\": \"SingleIntervalTicker\", \"id\": \"b6fc9347-0da4-4030-a101-5fad71c2d967\"}, {\"attributes\": {\"data_source\": {\"type\": \"ColumnDataSource\", \"id\": \"99c1aa42-68f7-4101-997e-aa67dc54e402\"}, \"name\": null, \"server_data_source\": null, \"doc\": null, \"xdata_range\": {\"type\": \"DataRange1d\", \"id\": \"a23671df-a99f-4d94-a953-d7a6406213d3\"}, \"ydata_range\": {\"type\": \"DataRange1d\", \"id\": \"c95e00e7-36d4-49d6-ad35-cf0bf4724b1a\"}, \"glyphspec\": {\"line_color\": {\"value\": null}, \"line_width\": {\"units\": \"data\", \"field\": \"line_width\"}, \"right\": {\"units\": \"data\", \"value\": 0}, \"fill_color\": {\"value\": \"#3B8686\"}, \"bottom\": {\"units\": \"data\", \"field\": \"groups\"}, \"top\": {\"units\": \"data\", \"field\": \"shifted\"}, \"fill_alpha\": {\"units\": \"data\", \"field\": 1.0}, \"line_alpha\": {\"units\": \"data\", \"field\": 1.0}, \"type\": \"quad\", \"left\": {\"units\": \"data\", \"field\": \"male\"}}, \"id\": \"d7336cd5-ba97-4bdd-84de-8baf9305eb07\"}, \"type\": \"Glyph\", \"id\": \"d7336cd5-ba97-4bdd-84de-8baf9305eb07\"}, {\"attributes\": {\"plot\": {\"type\": \"Plot\", \"id\": \"bb97997b-ef3e-40db-a4bd-a59e2abab32e\"}, \"doc\": null, \"axis\": {\"type\": \"LinearAxis\", \"id\": \"7c1b930e-9b12-4dff-b39a-a7e1fed20cbd\"}, \"id\": \"bce49eab-6f7a-46b3-98ce-504172bd9d2e\", \"dimension\": 1}, \"type\": \"Grid\", \"id\": \"bce49eab-6f7a-46b3-98ce-504172bd9d2e\"}, {\"attributes\": {\"plot\": {\"type\": \"Plot\", \"id\": \"bb97997b-ef3e-40db-a4bd-a59e2abab32e\"}, \"doc\": null, \"dimension\": 0, \"formatter\": {\"type\": \"BasicTickFormatter\", \"id\": \"097c89f0-9619-4423-b58e-229f7a3df4cd\"}, \"ticker\": {\"type\": \"BasicTicker\", \"id\": \"0db75a13-5ce8-49f9-bfd6-f20d21b4427d\"}, \"id\": \"f447de69-6bd4-4ab8-bb17-327155c50bb9\"}, \"type\": \"LinearAxis\", \"id\": \"f447de69-6bd4-4ab8-bb17-327155c50bb9\"}, {\"attributes\": {\"data_source\": {\"type\": \"ColumnDataSource\", \"id\": \"99c1aa42-68f7-4101-997e-aa67dc54e402\"}, \"name\": null, \"server_data_source\": null, \"doc\": null, \"xdata_range\": {\"type\": \"DataRange1d\", \"id\": \"a23671df-a99f-4d94-a953-d7a6406213d3\"}, \"ydata_range\": {\"type\": \"DataRange1d\", \"id\": \"c95e00e7-36d4-49d6-ad35-cf0bf4724b1a\"}, \"glyphspec\": {\"line_color\": {\"value\": null}, \"line_width\": {\"units\": \"data\", \"field\": \"line_width\"}, \"right\": {\"units\": \"data\", \"field\": \"female\"}, \"fill_color\": {\"value\": \"#CFF09E\"}, \"bottom\": {\"units\": \"data\", \"field\": \"groups\"}, \"top\": {\"units\": \"data\", \"field\": \"shifted\"}, \"fill_alpha\": {\"units\": \"data\", \"field\": 1.0}, \"line_alpha\": {\"units\": \"data\", \"field\": 1.0}, \"type\": \"quad\", \"left\": {\"units\": \"data\", \"value\": 0}}, \"id\": \"ff2c2b1c-4a94-444e-b6a3-551a84f5153d\"}, \"type\": \"Glyph\", \"id\": \"ff2c2b1c-4a94-444e-b6a3-551a84f5153d\"}, {\"attributes\": {\"doc\": null, \"id\": \"0db75a13-5ce8-49f9-bfd6-f20d21b4427d\"}, \"type\": \"BasicTicker\", \"id\": \"0db75a13-5ce8-49f9-bfd6-f20d21b4427d\"}, {\"attributes\": {\"x_range\": {\"type\": \"DataRange1d\", \"id\": \"a23671df-a99f-4d94-a953-d7a6406213d3\"}, \"data_sources\": [{\"type\": \"ColumnDataSource\", \"id\": \"99c1aa42-68f7-4101-997e-aa67dc54e402\"}], \"y_range\": {\"type\": \"DataRange1d\", \"id\": \"c95e00e7-36d4-49d6-ad35-cf0bf4724b1a\"}, \"outer_width\": 600, \"renderers\": [{\"type\": \"LinearAxis\", \"id\": \"f447de69-6bd4-4ab8-bb17-327155c50bb9\"}, {\"type\": \"LinearAxis\", \"id\": \"7c1b930e-9b12-4dff-b39a-a7e1fed20cbd\"}, {\"type\": \"Grid\", \"id\": \"f7e09be3-d14e-4e9a-8ab0-ced8c46ef0a2\"}, {\"type\": \"Grid\", \"id\": \"bce49eab-6f7a-46b3-98ce-504172bd9d2e\"}, {\"type\": \"Glyph\", \"id\": \"d7336cd5-ba97-4bdd-84de-8baf9305eb07\"}, {\"type\": \"Glyph\", \"id\": \"ff2c2b1c-4a94-444e-b6a3-551a84f5153d\"}, {\"type\": \"Legend\", \"id\": \"eb261736-d00c-4dfd-91f9-bbc2dfc37f76\"}], \"plot_width\": 600, \"outer_height\": 600, \"plot_height\": 600, \"doc\": null, \"canvas_height\": 600, \"id\": \"bb97997b-ef3e-40db-a4bd-a59e2abab32e\", \"title\": null, \"tools\": [], \"canvas_width\": 600}, \"type\": \"Plot\", \"id\": \"bb97997b-ef3e-40db-a4bd-a59e2abab32e\"}, {\"attributes\": {\"doc\": null, \"id\": \"097c89f0-9619-4423-b58e-229f7a3df4cd\"}, \"type\": \"BasicTickFormatter\", \"id\": \"097c89f0-9619-4423-b58e-229f7a3df4cd\"}, {\"attributes\": {\"doc\": null, \"id\": \"0e7698d2-d737-4778-9a65-bc8444010a4e\"}, \"type\": \"BasicTickFormatter\", \"id\": \"0e7698d2-d737-4778-9a65-bc8444010a4e\"}];\n",
        "            Bokeh.load_models(all_models);\n",
        "            var model = Bokeh.Collections(modeltype).get(modelid);\n",
        "            var view = new model.default_view({model: model, el: '#8da72fbc-08c5-4982-a8f2-005bc40c86b1'});\n",
        "        });\n",
        "    </script>\n",
        "<div class=\"plotdiv\" id=\"8da72fbc-08c5-4982-a8f2-005bc40c86b1\"></div>\n",
        "\n"
       ],
       "metadata": {},
       "output_type": "display_data"
      }
     ],
     "prompt_number": 7
    }
   ],
   "metadata": {}
  }
 ]
}