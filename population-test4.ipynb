{
 "metadata": {
  "name": "",
  "signature": "sha256:a693f05e638f53f062549bd6904c4f900d26ad77130ae52c553f346060e98e5a"
 },
 "nbformat": 3,
 "nbformat_minor": 0,
 "worksheets": [
  {
   "cells": [
    {
     "cell_type": "code",
     "collapsed": false,
     "input": [
      "from __future__ import print_function\n",
      "\n",
      "import time\n",
      "from math import pi\n",
      "\n",
      "import requests\n",
      "from requests.exceptions import ConnectionError\n",
      "\n",
      "import pandas as pd\n",
      "\n",
      "from bokeh.objects import (Plot, ColumnDataSource, DataRange1d, FactorRange,\n",
      "    LinearAxis, CategoricalAxis, Grid, Glyph, Legend, SingleIntervalTicker, HoverTool)\n",
      "from bokeh.widgetobjects import Select, HBox, VBox\n",
      "from bokeh.glyphs import Line, Quad\n",
      "from bokeh.document import Document\n",
      "from bokeh.session import Session\n",
      "from bokeh.sampledata.population import load_population\n",
      "from bokeh.plotting import *\n",
      "\n",
      "document = Document()\n",
      "session = Session()\n",
      "session.use_doc('population_server')\n",
      "session.load_document(document)\n",
      "\n",
      "df = load_population()\n",
      "revision = 2012\n",
      "\n",
      "year = 2010\n",
      "location = \"World\"\n",
      "\n",
      "years = list(map(str, sorted(df.Year.unique())))\n",
      "locations = sorted(df.Location.unique())\n",
      "\n",
      "source_pyramid = ColumnDataSource(data=dict())\n",
      "\n",
      "def pyramid():\n",
      "    xdr = DataRange1d(sources=[source_pyramid.columns(\"male\"), source_pyramid.columns(\"female\")])\n",
      "    ydr = DataRange1d(sources=[source_pyramid.columns(\"groups\")])\n",
      "\n",
      "    plot = Plot(title=None, data_sources=[source_pyramid], x_range=xdr, y_range=ydr, plot_width=600, plot_height=600)\n",
      "\n",
      "    xaxis = LinearAxis(plot=plot, dimension=0)\n",
      "    yaxis = LinearAxis(plot=plot, dimension=1, ticker=SingleIntervalTicker(interval=5))\n",
      "\n",
      "    xgrid = Grid(plot=plot, dimension=0, axis=xaxis)\n",
      "    ygrid = Grid(plot=plot, dimension=1, axis=yaxis)\n",
      "\n",
      "    male_quad = Quad(left=\"male\", right=0, bottom=\"groups\", top=\"shifted\", fill_color=\"#3B8686\")\n",
      "    male_quad_glyph = Glyph(data_source=source_pyramid, xdata_range=xdr, ydata_range=ydr, glyph=male_quad)\n",
      "    plot.renderers.append(male_quad_glyph)\n",
      "\n",
      "    female_quad = Quad(left=0, right=\"female\", bottom=\"groups\", top=\"shifted\", fill_color=\"#CFF09E\")\n",
      "    female_quad_glyph = Glyph(data_source=source_pyramid, xdata_range=xdr, ydata_range=ydr, glyph=female_quad)\n",
      "    plot.renderers.append(female_quad_glyph)\n",
      "\n",
      "    legend = Legend(plot=plot, legends=dict(Male=[male_quad_glyph], Female=[female_quad_glyph]))\n",
      "    plot.renderers.append(legend)\n",
      "\n",
      "    return plot\n",
      "\n",
      "source_known = ColumnDataSource(data=dict(x=[], y=[]))\n",
      "source_predicted = ColumnDataSource(data=dict(x=[], y=[]))\n",
      "\n",
      "def population():\n",
      "    xdr = FactorRange(factors=years)\n",
      "    ydr = DataRange1d(sources=[source_known.columns(\"y\"), source_predicted.columns(\"y\")])\n",
      "\n",
      "    plot = Plot(title=None, data_sources=[source_known, source_predicted], x_range=xdr, y_range=ydr, plot_width=800, plot_height=200)\n",
      "\n",
      "    xaxis = CategoricalAxis(plot=plot, dimension=0, major_label_orientation=pi/4)\n",
      "    # yaxis = LinearAxis(plot=plot, dimension=1, ...)\n",
      "\n",
      "    line_known = Line(x=\"x\", y=\"y\", line_color=\"violet\", line_width=2)\n",
      "    line_known_glyph = Glyph(data_source=source_known, xdata_range=xdr, ydata_range=ydr, glyph=line_known)\n",
      "    plot.renderers.append(line_known_glyph)\n",
      "\n",
      "    line_predicted = Line(x=\"x\", y=\"y\", line_color=\"violet\", line_width=2, line_dash=\"dashed\")\n",
      "    line_predicted_glyph = Glyph(data_source=source_predicted, xdata_range=xdr, ydata_range=ydr, glyph=line_predicted)\n",
      "    plot.renderers.append(line_predicted_glyph)\n",
      "\n",
      "    legend = Legend(plot=plot, orientation=\"bottom_right\", legends=dict(known=[line_known_glyph], predicted=[line_predicted_glyph]))\n",
      "    plot.renderers.append(legend)\n",
      "\n",
      "    return plot\n",
      "\n",
      "def update_pyramid():\n",
      "    pyramid = df[(df.Location == location) & (df.Year == year)]\n",
      "\n",
      "    male = pyramid[pyramid.Sex == \"Male\"]\n",
      "    female = pyramid[pyramid.Sex == \"Female\"]\n",
      "\n",
      "    total = male.Value.sum() + female.Value.sum()\n",
      "\n",
      "    male_percent = -male.Value/total\n",
      "    female_percent = female.Value/total\n",
      "\n",
      "    groups = male.AgeGrpStart.tolist()\n",
      "    shifted = groups[1:] + [groups[-1] + 5]\n",
      "\n",
      "    source_pyramid.data = dict(\n",
      "        groups=groups,\n",
      "        shifted=shifted,\n",
      "        male=male_percent,\n",
      "        female=female_percent,\n",
      "    )\n",
      "\n",
      "def update_population():\n",
      "    population = df[df.Location == location].groupby(df.Year).Value.sum()\n",
      "    aligned_revision = revision//10 * 10\n",
      "\n",
      "    known = population[population.index <= aligned_revision]\n",
      "    predicted = population[population.index >= aligned_revision]\n",
      "\n",
      "    source_known.data = dict(x=known.index.map(str), y=known.values)\n",
      "    source_predicted.data = dict(x=predicted.index.map(str), y=predicted.values)\n",
      "\n",
      "def update_data():\n",
      "    update_population()\n",
      "    update_pyramid()\n",
      "    session.store_document(document)\n",
      "\n",
      "def on_year_change(obj, attr, old, new):\n",
      "    global year\n",
      "    year = int(new)\n",
      "    update_data()\n",
      "\n",
      "def on_location_change(obj, attr, old, new):\n",
      "    global location\n",
      "    location = new\n",
      "    update_data()\n",
      "\n",
      "def layout():\n",
      "    year_select = Select(title=\"Year:\", value=\"2010\", options=years)\n",
      "    location_select = Select(title=\"Location:\", value=\"World\", options=locations)\n",
      "\n",
      "    year_select.on_change('value', on_year_change)\n",
      "    location_select.on_change('value', on_location_change)\n",
      "\n",
      "    controls = HBox(children=[year_select, location_select])\n",
      "    layout = VBox(children=[controls, pyramid(), population()])\n",
      "\n",
      "    return layout\n",
      "\n",
      "document.add(layout())\n",
      "update_data()\n",
      "\n",
      "output_notebook(url=\"default\", session=session)"
     ],
     "language": "python",
     "metadata": {},
     "outputs": [
      {
       "output_type": "stream",
       "stream": "stdout",
       "text": [
        "Using saved session configuration for http://localhost:5006/\n",
        "To override, pass 'load_from_config=False' to Session\n"
       ]
      },
      {
       "output_type": "stream",
       "stream": "stderr",
       "text": [
        "/Users/Christine/.virtualenvs/python_science/lib/python2.7/site-packages/pandas/io/excel.py:626: UserWarning: Installed openpyxl is not supported at this time. Use >=1.6.1 and <2.0.0.\n",
        "  .format(openpyxl_compat.start_ver, openpyxl_compat.stop_ver))\n"
       ]
      }
     ],
     "prompt_number": 1
    },
    {
     "cell_type": "code",
     "collapsed": false,
     "input": [
      "show()"
     ],
     "language": "python",
     "metadata": {},
     "outputs": [
      {
       "output_type": "stream",
       "stream": "stdout",
       "text": [
        "None\n"
       ]
      },
      {
       "output_type": "stream",
       "stream": "stderr",
       "text": [
        "/Users/Christine/.virtualenvs/python_science/lib/python2.7/site-packages/bokeh/plotting.py:227: UserWarning: No current plot to show. Use renderer functions (circle, rect, etc.) to create a current plot (see http://bokeh.pydata.org/index.html)\n",
        "  warnings.warn(\"No current plot to show. Use renderer functions (circle, rect, etc.) to create a current plot (see http://bokeh.pydata.org/index.html)\")\n"
       ]
      }
     ],
     "prompt_number": 2
    },
    {
     "cell_type": "code",
     "collapsed": false,
     "input": [
      "layout()"
     ],
     "language": "python",
     "metadata": {},
     "outputs": [
      {
       "metadata": {},
       "output_type": "pyout",
       "prompt_number": 3,
       "text": [
        "<bokeh.widgetobjects.VBox at 0x106243890>"
       ]
      }
     ],
     "prompt_number": 3
    },
    {
     "cell_type": "code",
     "collapsed": false,
     "input": [
      "myplot=population()\n",
      "myplot2=pyramid()"
     ],
     "language": "python",
     "metadata": {},
     "outputs": [],
     "prompt_number": 4
    },
    {
     "cell_type": "code",
     "collapsed": false,
     "input": [
      "population()"
     ],
     "language": "python",
     "metadata": {},
     "outputs": [
      {
       "metadata": {},
       "output_type": "pyout",
       "prompt_number": 5,
       "text": [
        "<bokeh.objects.Plot at 0x10624b2d0>"
       ]
      }
     ],
     "prompt_number": 5
    },
    {
     "cell_type": "code",
     "collapsed": false,
     "input": [
      "show(myplot)"
     ],
     "language": "python",
     "metadata": {},
     "outputs": [
      {
       "output_type": "stream",
       "stream": "stdout",
       "text": [
        "Plot, ViewModel:Plot, ref _id: d8ae1ae2-43aa-48d2-9d0d-1a3229526b4f\n"
       ]
      },
      {
       "html": [
        "<script type=\"text/javascript\">\n",
        "        $(function() {\n",
        "            var modelid = \"d8ae1ae2-43aa-48d2-9d0d-1a3229526b4f\";\n",
        "            var modeltype = \"Plot\";\n",
        "            var elementid = \"3a8db164-397d-46c0-a1c0-4ea6caeb87ea\";\n",
        "            console.log(\"  modeltype:\", modeltype);\n",
        "            console.log(\"  modelid:\", modelid);\n",
        "            console.log(\"  elementid:\", elementid);\n",
        "            var all_models = [{\"attributes\": {\"doc\": null, \"id\": \"509e4022-add0-480e-a6c9-0fb2d16d6315\", \"factors\": [\"1950\", \"1955\", \"1960\", \"1965\", \"1970\", \"1975\", \"1980\", \"1985\", \"1990\", \"1995\", \"2000\", \"2005\", \"2010\", \"2015\", \"2020\", \"2025\", \"2030\", \"2035\", \"2040\", \"2045\", \"2050\", \"2055\", \"2060\", \"2065\", \"2070\", \"2075\", \"2080\", \"2085\", \"2090\", \"2095\", \"2100\"]}, \"type\": \"FactorRange\", \"id\": \"509e4022-add0-480e-a6c9-0fb2d16d6315\"}, {\"attributes\": {\"data_source\": {\"type\": \"ColumnDataSource\", \"id\": \"b432bb43-8a0f-4a2f-8fd5-ceafe7118284\"}, \"name\": null, \"server_data_source\": null, \"doc\": null, \"xdata_range\": {\"type\": \"FactorRange\", \"id\": \"509e4022-add0-480e-a6c9-0fb2d16d6315\"}, \"ydata_range\": {\"type\": \"DataRange1d\", \"id\": \"9e635303-3142-4362-b9ec-8a23a58d77e6\"}, \"glyphspec\": {\"line_color\": {\"value\": \"violet\"}, \"line_width\": {\"units\": \"data\", \"value\": 2}, \"line_alpha\": {\"units\": \"data\", \"field\": 1.0}, \"y\": {\"units\": \"data\", \"field\": \"y\"}, \"line_dash\": [6], \"x\": {\"units\": \"data\", \"field\": \"x\"}, \"type\": \"line\"}, \"id\": \"71a3dfdc-668f-43b3-9149-27469d45c9df\"}, \"type\": \"Glyph\", \"id\": \"71a3dfdc-668f-43b3-9149-27469d45c9df\"}, {\"attributes\": {\"doc\": null, \"id\": \"f0264d71-bbb1-424d-87b2-4e43c53274dc\"}, \"type\": \"CategoricalTickFormatter\", \"id\": \"f0264d71-bbb1-424d-87b2-4e43c53274dc\"}, {\"attributes\": {\"column_names\": [\"y\", \"x\"], \"doc\": null, \"selected\": [], \"discrete_ranges\": {}, \"cont_ranges\": {}, \"data\": {\"y\": [6916183482.0, 7324782225.0, 7716749042.0, 8083412759.0, 8424937474.0, 8743446952.0, 9038687151.0, 9308438178.0, 9550944891.0, 9766475107.0, 9957398588.0, 10127006921.0, 10277339229.0, 10409149043.0, 10524161005.0, 10626467422.0, 10717401021.0, 10794252256.0, 10853848570.0], \"x\": [\"2010\", \"2015\", \"2020\", \"2025\", \"2030\", \"2035\", \"2040\", \"2045\", \"2050\", \"2055\", \"2060\", \"2065\", \"2070\", \"2075\", \"2080\", \"2085\", \"2090\", \"2095\", \"2100\"]}, \"id\": \"b432bb43-8a0f-4a2f-8fd5-ceafe7118284\"}, \"type\": \"ColumnDataSource\", \"id\": \"b432bb43-8a0f-4a2f-8fd5-ceafe7118284\"}, {\"attributes\": {\"data_source\": {\"type\": \"ColumnDataSource\", \"id\": \"ebb59cf5-b361-4eee-a99e-826b9a185d81\"}, \"name\": null, \"server_data_source\": null, \"doc\": null, \"xdata_range\": {\"type\": \"FactorRange\", \"id\": \"509e4022-add0-480e-a6c9-0fb2d16d6315\"}, \"ydata_range\": {\"type\": \"DataRange1d\", \"id\": \"9e635303-3142-4362-b9ec-8a23a58d77e6\"}, \"glyphspec\": {\"line_color\": {\"value\": \"violet\"}, \"line_width\": {\"units\": \"data\", \"value\": 2}, \"line_alpha\": {\"units\": \"data\", \"field\": 1.0}, \"y\": {\"units\": \"data\", \"field\": \"y\"}, \"x\": {\"units\": \"data\", \"field\": \"x\"}, \"type\": \"line\"}, \"id\": \"05ba3715-bed5-43a4-8afb-59073c6f56c4\"}, \"type\": \"Glyph\", \"id\": \"05ba3715-bed5-43a4-8afb-59073c6f56c4\"}, {\"attributes\": {\"sources\": [{\"source\": {\"type\": \"ColumnDataSource\", \"id\": \"ebb59cf5-b361-4eee-a99e-826b9a185d81\"}, \"columns\": [\"y\"]}, {\"source\": {\"type\": \"ColumnDataSource\", \"id\": \"b432bb43-8a0f-4a2f-8fd5-ceafe7118284\"}, \"columns\": [\"y\"]}], \"id\": \"9e635303-3142-4362-b9ec-8a23a58d77e6\", \"doc\": null}, \"type\": \"DataRange1d\", \"id\": \"9e635303-3142-4362-b9ec-8a23a58d77e6\"}, {\"attributes\": {\"plot\": {\"type\": \"Plot\", \"id\": \"d8ae1ae2-43aa-48d2-9d0d-1a3229526b4f\"}, \"legends\": {\"known\": [{\"type\": \"Glyph\", \"id\": \"05ba3715-bed5-43a4-8afb-59073c6f56c4\"}], \"predicted\": [{\"type\": \"Glyph\", \"id\": \"71a3dfdc-668f-43b3-9149-27469d45c9df\"}]}, \"doc\": null, \"id\": \"a045331f-1868-4e64-8718-7160b4a72406\", \"orientation\": \"bottom_right\"}, \"type\": \"Legend\", \"id\": \"a045331f-1868-4e64-8718-7160b4a72406\"}, {\"attributes\": {\"plot\": {\"type\": \"Plot\", \"id\": \"d8ae1ae2-43aa-48d2-9d0d-1a3229526b4f\"}, \"doc\": null, \"id\": \"39ed0a6e-a350-4dc7-b86a-7b9ac3021c67\", \"major_label_orientation\": 0.7853981633974483, \"formatter\": {\"type\": \"CategoricalTickFormatter\", \"id\": \"f0264d71-bbb1-424d-87b2-4e43c53274dc\"}, \"ticker\": {\"type\": \"CategoricalTicker\", \"id\": \"d8333b93-ee13-4ad0-998e-31eb5f6be505\"}, \"dimension\": 0}, \"type\": \"CategoricalAxis\", \"id\": \"39ed0a6e-a350-4dc7-b86a-7b9ac3021c67\"}, {\"attributes\": {\"column_names\": [\"y\", \"x\"], \"doc\": null, \"selected\": [], \"discrete_ranges\": {}, \"cont_ranges\": {}, \"data\": {\"y\": [2525778669.0, 2761650981.0, 3026002942.0, 3329122479.0, 3691172616.0, 4071020434.0, 4449048798.0, 4863601517.0, 5320816667.0, 5741822412.0, 6127700428.0, 6514094605.0, 6916183482.0], \"x\": [\"1950\", \"1955\", \"1960\", \"1965\", \"1970\", \"1975\", \"1980\", \"1985\", \"1990\", \"1995\", \"2000\", \"2005\", \"2010\"]}, \"id\": \"ebb59cf5-b361-4eee-a99e-826b9a185d81\"}, \"type\": \"ColumnDataSource\", \"id\": \"ebb59cf5-b361-4eee-a99e-826b9a185d81\"}, {\"attributes\": {\"doc\": null, \"id\": \"d8333b93-ee13-4ad0-998e-31eb5f6be505\"}, \"type\": \"CategoricalTicker\", \"id\": \"d8333b93-ee13-4ad0-998e-31eb5f6be505\"}, {\"attributes\": {\"x_range\": {\"type\": \"FactorRange\", \"id\": \"509e4022-add0-480e-a6c9-0fb2d16d6315\"}, \"data_sources\": [{\"type\": \"ColumnDataSource\", \"id\": \"ebb59cf5-b361-4eee-a99e-826b9a185d81\"}, {\"type\": \"ColumnDataSource\", \"id\": \"b432bb43-8a0f-4a2f-8fd5-ceafe7118284\"}], \"y_range\": {\"type\": \"DataRange1d\", \"id\": \"9e635303-3142-4362-b9ec-8a23a58d77e6\"}, \"outer_width\": 800, \"renderers\": [{\"type\": \"CategoricalAxis\", \"id\": \"39ed0a6e-a350-4dc7-b86a-7b9ac3021c67\"}, {\"type\": \"Glyph\", \"id\": \"05ba3715-bed5-43a4-8afb-59073c6f56c4\"}, {\"type\": \"Glyph\", \"id\": \"71a3dfdc-668f-43b3-9149-27469d45c9df\"}, {\"type\": \"Legend\", \"id\": \"a045331f-1868-4e64-8718-7160b4a72406\"}], \"plot_width\": 800, \"outer_height\": 200, \"plot_height\": 200, \"doc\": null, \"canvas_height\": 200, \"id\": \"d8ae1ae2-43aa-48d2-9d0d-1a3229526b4f\", \"title\": null, \"tools\": [], \"canvas_width\": 800}, \"type\": \"Plot\", \"id\": \"d8ae1ae2-43aa-48d2-9d0d-1a3229526b4f\"}];\n",
        "            Bokeh.load_models(all_models);\n",
        "            var model = Bokeh.Collections(modeltype).get(modelid);\n",
        "            var view = new model.default_view({model: model, el: '#3a8db164-397d-46c0-a1c0-4ea6caeb87ea'});\n",
        "        });\n",
        "    </script>\n",
        "<div class=\"plotdiv\" id=\"3a8db164-397d-46c0-a1c0-4ea6caeb87ea\"></div>\n",
        "\n"
       ],
       "metadata": {},
       "output_type": "display_data"
      }
     ],
     "prompt_number": 6
    },
    {
     "cell_type": "code",
     "collapsed": false,
     "input": [
      "show(myplot2)"
     ],
     "language": "python",
     "metadata": {},
     "outputs": [
      {
       "output_type": "stream",
       "stream": "stdout",
       "text": [
        "Plot, ViewModel:Plot, ref _id: 385d97be-53d0-4d72-86db-5a130811f58b\n"
       ]
      },
      {
       "html": [
        "<script type=\"text/javascript\">\n",
        "        $(function() {\n",
        "            var modelid = \"385d97be-53d0-4d72-86db-5a130811f58b\";\n",
        "            var modeltype = \"Plot\";\n",
        "            var elementid = \"9d2b06ae-41b8-49a5-bd0a-e2ce28eddbbe\";\n",
        "            console.log(\"  modeltype:\", modeltype);\n",
        "            console.log(\"  modelid:\", modelid);\n",
        "            console.log(\"  elementid:\", elementid);\n",
        "            var all_models = [{\"attributes\": {\"x_range\": {\"type\": \"DataRange1d\", \"id\": \"82abc42d-08cc-4664-a996-febe88fa0bb7\"}, \"data_sources\": [{\"type\": \"ColumnDataSource\", \"id\": \"ad6b1001-c605-4372-8724-f7222f8ac061\"}], \"y_range\": {\"type\": \"DataRange1d\", \"id\": \"24ed2245-3ebd-416a-9e8e-a471320929e7\"}, \"outer_width\": 600, \"renderers\": [{\"type\": \"LinearAxis\", \"id\": \"f72bba8c-16ac-452d-b238-674bc4f83f77\"}, {\"type\": \"LinearAxis\", \"id\": \"11913d26-c8b7-422f-82e5-75cdfad4aa47\"}, {\"type\": \"Grid\", \"id\": \"0d9f8e4e-f805-4990-8ae7-413554936b36\"}, {\"type\": \"Grid\", \"id\": \"bfc37523-642f-461e-a1ac-d082e14ee350\"}, {\"type\": \"Glyph\", \"id\": \"dfe9d516-88d6-47d6-ae9a-d8a6f2a2c8d2\"}, {\"type\": \"Glyph\", \"id\": \"909d6c10-6267-46fe-ad70-b8909a5a0803\"}, {\"type\": \"Legend\", \"id\": \"b2aac620-1133-4b4d-85de-219779b00c1e\"}], \"plot_width\": 600, \"outer_height\": 600, \"plot_height\": 600, \"doc\": null, \"canvas_height\": 600, \"id\": \"385d97be-53d0-4d72-86db-5a130811f58b\", \"title\": null, \"tools\": [], \"canvas_width\": 600}, \"type\": \"Plot\", \"id\": \"385d97be-53d0-4d72-86db-5a130811f58b\"}, {\"attributes\": {\"column_names\": [], \"doc\": null, \"selected\": [], \"discrete_ranges\": {}, \"cont_ranges\": {}, \"data\": {\"shifted\": [5, 10, 15, 20, 25, 30, 35, 40, 45, 50, 55, 60, 65, 70, 75, 80, 85, 90, 95, 100, 105], \"male\": [-0.04803909900087292, -0.04540565729889929, -0.044258523186473206, -0.04512990752954116, -0.04566083098025016, -0.04113504633594971, -0.036912796148978744, -0.035764593528173835, -0.03358340963690472, -0.029925685537213167, -0.02548709811686861, -0.0222401164457713, -0.016454090076727088, -0.012153044553944354, -0.009524030727558423, -0.006417278129695518, -0.0037278555531531803, -0.0015870034432380318, -0.0004459969877936214, -8.918762806183171e-05, -1.1891674102349965e-05], \"female\": [0.044809952888985545, 0.04241441233643662, 0.04143847799091689, 0.04249876362664145, 0.04360719460160788, 0.039761899278079334, 0.03583974219959828, 0.03491383356564339, 0.03282628657710906, 0.029661263547143123, 0.025493713615158828, 0.022602938803872527, 0.017429448671182606, 0.013404778118059766, 0.011275815513420759, 0.00826426556622692, 0.005577334248056318, 0.002924195700220435, 0.0009962809717141046, 0.00026709976749572883, 3.915989225920308e-05], \"groups\": [0, 5, 10, 15, 20, 25, 30, 35, 40, 45, 50, 55, 60, 65, 70, 75, 80, 85, 90, 95, 100]}, \"id\": \"ad6b1001-c605-4372-8724-f7222f8ac061\"}, \"type\": \"ColumnDataSource\", \"id\": \"ad6b1001-c605-4372-8724-f7222f8ac061\"}, {\"attributes\": {\"sources\": [{\"source\": {\"type\": \"ColumnDataSource\", \"id\": \"ad6b1001-c605-4372-8724-f7222f8ac061\"}, \"columns\": [\"male\"]}, {\"source\": {\"type\": \"ColumnDataSource\", \"id\": \"ad6b1001-c605-4372-8724-f7222f8ac061\"}, \"columns\": [\"female\"]}], \"id\": \"82abc42d-08cc-4664-a996-febe88fa0bb7\", \"doc\": null}, \"type\": \"DataRange1d\", \"id\": \"82abc42d-08cc-4664-a996-febe88fa0bb7\"}, {\"attributes\": {\"plot\": {\"type\": \"Plot\", \"id\": \"385d97be-53d0-4d72-86db-5a130811f58b\"}, \"doc\": null, \"dimension\": 1, \"formatter\": {\"type\": \"BasicTickFormatter\", \"id\": \"732730be-1690-45da-9a22-67d7f92a5a1e\"}, \"ticker\": {\"type\": \"SingleIntervalTicker\", \"id\": \"69c00a08-91f7-40cb-98fb-24c8a0cf2ded\"}, \"id\": \"11913d26-c8b7-422f-82e5-75cdfad4aa47\"}, \"type\": \"LinearAxis\", \"id\": \"11913d26-c8b7-422f-82e5-75cdfad4aa47\"}, {\"attributes\": {\"plot\": {\"type\": \"Plot\", \"id\": \"385d97be-53d0-4d72-86db-5a130811f58b\"}, \"doc\": null, \"axis\": {\"type\": \"LinearAxis\", \"id\": \"f72bba8c-16ac-452d-b238-674bc4f83f77\"}, \"id\": \"0d9f8e4e-f805-4990-8ae7-413554936b36\", \"dimension\": 0}, \"type\": \"Grid\", \"id\": \"0d9f8e4e-f805-4990-8ae7-413554936b36\"}, {\"attributes\": {\"sources\": [{\"source\": {\"type\": \"ColumnDataSource\", \"id\": \"ad6b1001-c605-4372-8724-f7222f8ac061\"}, \"columns\": [\"groups\"]}], \"id\": \"24ed2245-3ebd-416a-9e8e-a471320929e7\", \"doc\": null}, \"type\": \"DataRange1d\", \"id\": \"24ed2245-3ebd-416a-9e8e-a471320929e7\"}, {\"attributes\": {\"data_source\": {\"type\": \"ColumnDataSource\", \"id\": \"ad6b1001-c605-4372-8724-f7222f8ac061\"}, \"name\": null, \"server_data_source\": null, \"doc\": null, \"xdata_range\": {\"type\": \"DataRange1d\", \"id\": \"82abc42d-08cc-4664-a996-febe88fa0bb7\"}, \"ydata_range\": {\"type\": \"DataRange1d\", \"id\": \"24ed2245-3ebd-416a-9e8e-a471320929e7\"}, \"glyphspec\": {\"line_color\": {\"value\": null}, \"line_width\": {\"units\": \"data\", \"field\": \"line_width\"}, \"right\": {\"units\": \"data\", \"field\": \"female\"}, \"fill_color\": {\"value\": \"#CFF09E\"}, \"bottom\": {\"units\": \"data\", \"field\": \"groups\"}, \"top\": {\"units\": \"data\", \"field\": \"shifted\"}, \"fill_alpha\": {\"units\": \"data\", \"field\": 1.0}, \"line_alpha\": {\"units\": \"data\", \"field\": 1.0}, \"type\": \"quad\", \"left\": {\"units\": \"data\", \"value\": 0}}, \"id\": \"909d6c10-6267-46fe-ad70-b8909a5a0803\"}, \"type\": \"Glyph\", \"id\": \"909d6c10-6267-46fe-ad70-b8909a5a0803\"}, {\"attributes\": {\"plot\": {\"type\": \"Plot\", \"id\": \"385d97be-53d0-4d72-86db-5a130811f58b\"}, \"doc\": null, \"axis\": {\"type\": \"LinearAxis\", \"id\": \"11913d26-c8b7-422f-82e5-75cdfad4aa47\"}, \"id\": \"bfc37523-642f-461e-a1ac-d082e14ee350\", \"dimension\": 1}, \"type\": \"Grid\", \"id\": \"bfc37523-642f-461e-a1ac-d082e14ee350\"}, {\"attributes\": {\"plot\": {\"type\": \"Plot\", \"id\": \"385d97be-53d0-4d72-86db-5a130811f58b\"}, \"doc\": null, \"dimension\": 0, \"formatter\": {\"type\": \"BasicTickFormatter\", \"id\": \"7ef0383d-ac27-4900-a5f4-1984fcd9e65b\"}, \"ticker\": {\"type\": \"BasicTicker\", \"id\": \"1423eee3-3310-4072-8525-56032c8fc3f9\"}, \"id\": \"f72bba8c-16ac-452d-b238-674bc4f83f77\"}, \"type\": \"LinearAxis\", \"id\": \"f72bba8c-16ac-452d-b238-674bc4f83f77\"}, {\"attributes\": {\"doc\": null, \"id\": \"1423eee3-3310-4072-8525-56032c8fc3f9\"}, \"type\": \"BasicTicker\", \"id\": \"1423eee3-3310-4072-8525-56032c8fc3f9\"}, {\"attributes\": {\"doc\": null, \"id\": \"7ef0383d-ac27-4900-a5f4-1984fcd9e65b\"}, \"type\": \"BasicTickFormatter\", \"id\": \"7ef0383d-ac27-4900-a5f4-1984fcd9e65b\"}, {\"attributes\": {\"data_source\": {\"type\": \"ColumnDataSource\", \"id\": \"ad6b1001-c605-4372-8724-f7222f8ac061\"}, \"name\": null, \"server_data_source\": null, \"doc\": null, \"xdata_range\": {\"type\": \"DataRange1d\", \"id\": \"82abc42d-08cc-4664-a996-febe88fa0bb7\"}, \"ydata_range\": {\"type\": \"DataRange1d\", \"id\": \"24ed2245-3ebd-416a-9e8e-a471320929e7\"}, \"glyphspec\": {\"line_color\": {\"value\": null}, \"line_width\": {\"units\": \"data\", \"field\": \"line_width\"}, \"right\": {\"units\": \"data\", \"value\": 0}, \"fill_color\": {\"value\": \"#3B8686\"}, \"bottom\": {\"units\": \"data\", \"field\": \"groups\"}, \"top\": {\"units\": \"data\", \"field\": \"shifted\"}, \"fill_alpha\": {\"units\": \"data\", \"field\": 1.0}, \"line_alpha\": {\"units\": \"data\", \"field\": 1.0}, \"type\": \"quad\", \"left\": {\"units\": \"data\", \"field\": \"male\"}}, \"id\": \"dfe9d516-88d6-47d6-ae9a-d8a6f2a2c8d2\"}, \"type\": \"Glyph\", \"id\": \"dfe9d516-88d6-47d6-ae9a-d8a6f2a2c8d2\"}, {\"attributes\": {\"doc\": null, \"id\": \"69c00a08-91f7-40cb-98fb-24c8a0cf2ded\", \"interval\": 5}, \"type\": \"SingleIntervalTicker\", \"id\": \"69c00a08-91f7-40cb-98fb-24c8a0cf2ded\"}, {\"attributes\": {\"plot\": {\"type\": \"Plot\", \"id\": \"385d97be-53d0-4d72-86db-5a130811f58b\"}, \"legends\": {\"Male\": [{\"type\": \"Glyph\", \"id\": \"dfe9d516-88d6-47d6-ae9a-d8a6f2a2c8d2\"}], \"Female\": [{\"type\": \"Glyph\", \"id\": \"909d6c10-6267-46fe-ad70-b8909a5a0803\"}]}, \"doc\": null, \"id\": \"b2aac620-1133-4b4d-85de-219779b00c1e\"}, \"type\": \"Legend\", \"id\": \"b2aac620-1133-4b4d-85de-219779b00c1e\"}, {\"attributes\": {\"doc\": null, \"id\": \"732730be-1690-45da-9a22-67d7f92a5a1e\"}, \"type\": \"BasicTickFormatter\", \"id\": \"732730be-1690-45da-9a22-67d7f92a5a1e\"}];\n",
        "            Bokeh.load_models(all_models);\n",
        "            var model = Bokeh.Collections(modeltype).get(modelid);\n",
        "            var view = new model.default_view({model: model, el: '#9d2b06ae-41b8-49a5-bd0a-e2ce28eddbbe'});\n",
        "        });\n",
        "    </script>\n",
        "<div class=\"plotdiv\" id=\"9d2b06ae-41b8-49a5-bd0a-e2ce28eddbbe\"></div>\n",
        "\n"
       ],
       "metadata": {},
       "output_type": "display_data"
      }
     ],
     "prompt_number": 7
    }
   ],
   "metadata": {}
  }
 ]
}