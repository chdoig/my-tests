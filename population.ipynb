{
 "metadata": {
  "name": "",
  "signature": "sha256:b7f7f3f2b6313cc1c760fce2381f496e6b7bf29ebc3f43c275f61c280a6d3ef3"
 },
 "nbformat": 3,
 "nbformat_minor": 0,
 "worksheets": [
  {
   "cells": [
    {
     "cell_type": "code",
     "collapsed": false,
     "input": [
      "from __future__ import print_function\n",
      "\n",
      "import time\n",
      "from math import pi\n",
      "\n",
      "import requests\n",
      "from requests.exceptions import ConnectionError\n",
      "\n",
      "import pandas as pd\n",
      "\n",
      "from bokeh.objects import (Plot, ColumnDataSource, DataRange1d, FactorRange,\n",
      "    LinearAxis, CategoricalAxis, Grid, Glyph, Legend, SingleIntervalTicker, HoverTool)\n",
      "from bokeh.widgetobjects import Select, HBox, VBox\n",
      "from bokeh.glyphs import Line, Quad\n",
      "#from bokeh.document import Document\n",
      "#from bokeh.session import Session\n",
      "from bokeh.sampledata.population import load_population\n",
      "from bokeh.plotting import *\n",
      "\n",
      "#document = Document()\n",
      "#session = Session()\n",
      "#session.use_doc('population_server')\n",
      "#session.load_document(document)\n",
      "\n",
      "output_notebook(url=\"default\")\n",
      "\n",
      "df = load_population()\n",
      "revision = 2012\n",
      "\n",
      "year = 2010\n",
      "location = \"World\"\n",
      "\n",
      "years = list(map(str, sorted(df.Year.unique())))\n",
      "locations = sorted(df.Location.unique())\n",
      "\n",
      "source_pyramid = ColumnDataSource(data=dict())\n",
      "\n",
      "def pyramid():\n",
      "    xdr = DataRange1d(sources=[source_pyramid.columns(\"male\"), source_pyramid.columns(\"female\")])\n",
      "    ydr = DataRange1d(sources=[source_pyramid.columns(\"groups\")])\n",
      "\n",
      "    plot = Plot(title=None, data_sources=[source_pyramid], x_range=xdr, y_range=ydr, plot_width=600, plot_height=600)\n",
      "\n",
      "    xaxis = LinearAxis(plot=plot, dimension=0)\n",
      "    yaxis = LinearAxis(plot=plot, dimension=1, ticker=SingleIntervalTicker(interval=5))\n",
      "\n",
      "    xgrid = Grid(plot=plot, dimension=0, axis=xaxis)\n",
      "    ygrid = Grid(plot=plot, dimension=1, axis=yaxis)\n",
      "\n",
      "    male_quad = Quad(left=\"male\", right=0, bottom=\"groups\", top=\"shifted\", fill_color=\"#3B8686\")\n",
      "    male_quad_glyph = Glyph(data_source=source_pyramid, xdata_range=xdr, ydata_range=ydr, glyph=male_quad)\n",
      "    plot.renderers.append(male_quad_glyph)\n",
      "\n",
      "    female_quad = Quad(left=0, right=\"female\", bottom=\"groups\", top=\"shifted\", fill_color=\"#CFF09E\")\n",
      "    female_quad_glyph = Glyph(data_source=source_pyramid, xdata_range=xdr, ydata_range=ydr, glyph=female_quad)\n",
      "    plot.renderers.append(female_quad_glyph)\n",
      "\n",
      "    legend = Legend(plot=plot, legends=dict(Male=[male_quad_glyph], Female=[female_quad_glyph]))\n",
      "    plot.renderers.append(legend)\n",
      "\n",
      "    return plot\n",
      "\n",
      "source_known = ColumnDataSource(data=dict(x=[], y=[]))\n",
      "source_predicted = ColumnDataSource(data=dict(x=[], y=[]))\n",
      "\n",
      "def population():\n",
      "    xdr = FactorRange(factors=years)\n",
      "    ydr = DataRange1d(sources=[source_known.columns(\"y\"), source_predicted.columns(\"y\")])\n",
      "\n",
      "    plot = Plot(title=None, data_sources=[source_known, source_predicted], x_range=xdr, y_range=ydr, plot_width=800, plot_height=200)\n",
      "\n",
      "    xaxis = CategoricalAxis(plot=plot, dimension=0, major_label_orientation=pi/4)\n",
      "    # yaxis = LinearAxis(plot=plot, dimension=1, ...)\n",
      "\n",
      "    line_known = Line(x=\"x\", y=\"y\", line_color=\"violet\", line_width=2)\n",
      "    line_known_glyph = Glyph(data_source=source_known, xdata_range=xdr, ydata_range=ydr, glyph=line_known)\n",
      "    plot.renderers.append(line_known_glyph)\n",
      "\n",
      "    line_predicted = Line(x=\"x\", y=\"y\", line_color=\"violet\", line_width=2, line_dash=\"dashed\")\n",
      "    line_predicted_glyph = Glyph(data_source=source_predicted, xdata_range=xdr, ydata_range=ydr, glyph=line_predicted)\n",
      "    plot.renderers.append(line_predicted_glyph)\n",
      "\n",
      "    legend = Legend(plot=plot, orientation=\"bottom_right\", legends=dict(known=[line_known_glyph], predicted=[line_predicted_glyph]))\n",
      "    plot.renderers.append(legend)\n",
      "\n",
      "    return plot\n",
      "\n",
      "def update_pyramid():\n",
      "    pyramid = df[(df.Location == location) & (df.Year == year)]\n",
      "\n",
      "    male = pyramid[pyramid.Sex == \"Male\"]\n",
      "    female = pyramid[pyramid.Sex == \"Female\"]\n",
      "\n",
      "    total = male.Value.sum() + female.Value.sum()\n",
      "\n",
      "    male_percent = -male.Value/total\n",
      "    female_percent = female.Value/total\n",
      "\n",
      "    groups = male.AgeGrpStart.tolist()\n",
      "    shifted = groups[1:] + [groups[-1] + 5]\n",
      "\n",
      "    source_pyramid.data = dict(\n",
      "        groups=groups,\n",
      "        shifted=shifted,\n",
      "        male=male_percent,\n",
      "        female=female_percent,\n",
      "    )\n",
      "\n",
      "def update_population():\n",
      "    population = df[df.Location == location].groupby(df.Year).Value.sum()\n",
      "    aligned_revision = revision//10 * 10\n",
      "\n",
      "    known = population[population.index <= aligned_revision]\n",
      "    predicted = population[population.index >= aligned_revision]\n",
      "\n",
      "    source_known.data = dict(x=known.index.map(str), y=known.values)\n",
      "    source_predicted.data = dict(x=predicted.index.map(str), y=predicted.values)\n",
      "\n",
      "def update_data():\n",
      "    update_population()\n",
      "    update_pyramid()\n",
      "    session.store_document(document)\n",
      "\n",
      "def on_year_change(obj, attr, old, new):\n",
      "    global year\n",
      "    year = int(new)\n",
      "    update_data()\n",
      "\n",
      "def on_location_change(obj, attr, old, new):\n",
      "    global location\n",
      "    location = new\n",
      "    update_data()\n",
      "\n",
      "def layout():\n",
      "    year_select = Select(title=\"Year:\", value=\"2010\", options=years)\n",
      "    location_select = Select(title=\"Location:\", value=\"World\", options=locations)\n",
      "\n",
      "    year_select.on_change('value', on_year_change)\n",
      "    location_select.on_change('value', on_location_change)\n",
      "\n",
      "    controls = HBox(children=[year_select, location_select])\n",
      "    layout = VBox(children=[controls, pyramid(), population()])\n",
      "\n",
      "    return layout\n",
      "\n",
      "#hold()"
     ],
     "language": "python",
     "metadata": {},
     "outputs": [
      {
       "output_type": "stream",
       "stream": "stdout",
       "text": [
        "Using saved session configuration for http://localhost:5006/\n",
        "To override, pass 'load_from_config=False' to Session\n"
       ]
      },
      {
       "output_type": "stream",
       "stream": "stderr",
       "text": [
        "/Users/Christine/.virtualenvs/python_science/lib/python2.7/site-packages/pandas/io/excel.py:626: UserWarning: Installed openpyxl is not supported at this time. Use >=1.6.1 and <2.0.0.\n",
        "  .format(openpyxl_compat.start_ver, openpyxl_compat.stop_ver))\n"
       ]
      }
     ],
     "prompt_number": 1
    },
    {
     "cell_type": "code",
     "collapsed": false,
     "input": [
      "pyramid()"
     ],
     "language": "python",
     "metadata": {},
     "outputs": [
      {
       "metadata": {},
       "output_type": "pyout",
       "prompt_number": 2,
       "text": [
        "<bokeh.objects.Plot at 0x106740b50>"
       ]
      }
     ],
     "prompt_number": 2
    },
    {
     "cell_type": "code",
     "collapsed": false,
     "input": [
      "curplot()"
     ],
     "language": "python",
     "metadata": {},
     "outputs": [],
     "prompt_number": 3
    },
    {
     "cell_type": "code",
     "collapsed": false,
     "input": [
      "??curplot()"
     ],
     "language": "python",
     "metadata": {},
     "outputs": [],
     "prompt_number": 4
    },
    {
     "cell_type": "code",
     "collapsed": false,
     "input": [
      "renderer = [r for r in curplot().renderers if isinstance(r, Glyph)][0]\n",
      "ds = renderer.data_source\n",
      "show()"
     ],
     "language": "python",
     "metadata": {},
     "outputs": [
      {
       "ename": "AttributeError",
       "evalue": "'NoneType' object has no attribute 'renderers'",
       "output_type": "pyerr",
       "traceback": [
        "\u001b[0;31m---------------------------------------------------------------------------\u001b[0m\n\u001b[0;31mAttributeError\u001b[0m                            Traceback (most recent call last)",
        "\u001b[0;32m<ipython-input-5-3fc5eb39c672>\u001b[0m in \u001b[0;36m<module>\u001b[0;34m()\u001b[0m\n\u001b[0;32m----> 1\u001b[0;31m \u001b[0mrenderer\u001b[0m \u001b[0;34m=\u001b[0m \u001b[0;34m[\u001b[0m\u001b[0mr\u001b[0m \u001b[0;32mfor\u001b[0m \u001b[0mr\u001b[0m \u001b[0;32min\u001b[0m \u001b[0mcurplot\u001b[0m\u001b[0;34m(\u001b[0m\u001b[0;34m)\u001b[0m\u001b[0;34m.\u001b[0m\u001b[0mrenderers\u001b[0m \u001b[0;32mif\u001b[0m \u001b[0misinstance\u001b[0m\u001b[0;34m(\u001b[0m\u001b[0mr\u001b[0m\u001b[0;34m,\u001b[0m \u001b[0mGlyph\u001b[0m\u001b[0;34m)\u001b[0m\u001b[0;34m]\u001b[0m\u001b[0;34m[\u001b[0m\u001b[0;36m0\u001b[0m\u001b[0;34m]\u001b[0m\u001b[0;34m\u001b[0m\u001b[0m\n\u001b[0m\u001b[1;32m      2\u001b[0m \u001b[0mds\u001b[0m \u001b[0;34m=\u001b[0m \u001b[0mrenderer\u001b[0m\u001b[0;34m.\u001b[0m\u001b[0mdata_source\u001b[0m\u001b[0;34m\u001b[0m\u001b[0m\n\u001b[1;32m      3\u001b[0m \u001b[0mshow\u001b[0m\u001b[0;34m(\u001b[0m\u001b[0;34m)\u001b[0m\u001b[0;34m\u001b[0m\u001b[0m\n",
        "\u001b[0;31mAttributeError\u001b[0m: 'NoneType' object has no attribute 'renderers'"
       ]
      }
     ],
     "prompt_number": 5
    },
    {
     "cell_type": "code",
     "collapsed": false,
     "input": [
      "document.add(layout())\n",
      "update_data()"
     ],
     "language": "python",
     "metadata": {},
     "outputs": []
    }
   ],
   "metadata": {}
  }
 ]
}