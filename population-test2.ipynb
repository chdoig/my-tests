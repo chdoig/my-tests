{
 "metadata": {
  "name": "",
  "signature": "sha256:d26a52c2a7971bac8e1f72d1ac3998cf73fa48750964cb7f4771685bde56eb5b"
 },
 "nbformat": 3,
 "nbformat_minor": 0,
 "worksheets": [
  {
   "cells": [
    {
     "cell_type": "code",
     "collapsed": false,
     "input": [
      "from __future__ import print_function\n",
      "\n",
      "import time\n",
      "from math import pi\n",
      "\n",
      "import requests\n",
      "from requests.exceptions import ConnectionError\n",
      "\n",
      "import pandas as pd\n",
      "\n",
      "from bokeh.objects import (Plot, ColumnDataSource, DataRange1d, FactorRange,\n",
      "    LinearAxis, CategoricalAxis, Grid, Glyph, Legend, SingleIntervalTicker, HoverTool)\n",
      "from bokeh.widgetobjects import Select, HBox, VBox\n",
      "from bokeh.glyphs import Line, Quad\n",
      "from bokeh.document import Document\n",
      "from bokeh.session import Session\n",
      "from bokeh.sampledata.population import load_population\n",
      "from bokeh.plotting import *\n",
      "\n",
      "document = Document()\n",
      "session = Session(load_from_config=False)\n",
      "session.use_doc('population_server')\n",
      "session.load_document(document)\n",
      "\n",
      "df = load_population()\n",
      "revision = 2012\n",
      "\n",
      "year = 2010\n",
      "location = \"World\"\n",
      "\n",
      "years = list(map(str, sorted(df.Year.unique())))\n",
      "locations = sorted(df.Location.unique())\n",
      "\n",
      "source_pyramid = ColumnDataSource(data=dict())\n",
      "\n",
      "def pyramid():\n",
      "    xdr = DataRange1d(sources=[source_pyramid.columns(\"male\"), source_pyramid.columns(\"female\")])\n",
      "    ydr = DataRange1d(sources=[source_pyramid.columns(\"groups\")])\n",
      "\n",
      "    plot = Plot(title=None, data_sources=[source_pyramid], x_range=xdr, y_range=ydr, plot_width=600, plot_height=600)\n",
      "\n",
      "    xaxis = LinearAxis(plot=plot, dimension=0)\n",
      "    yaxis = LinearAxis(plot=plot, dimension=1, ticker=SingleIntervalTicker(interval=5))\n",
      "\n",
      "    xgrid = Grid(plot=plot, dimension=0, axis=xaxis)\n",
      "    ygrid = Grid(plot=plot, dimension=1, axis=yaxis)\n",
      "\n",
      "    male_quad = Quad(left=\"male\", right=0, bottom=\"groups\", top=\"shifted\", fill_color=\"#3B8686\")\n",
      "    male_quad_glyph = Glyph(data_source=source_pyramid, xdata_range=xdr, ydata_range=ydr, glyph=male_quad)\n",
      "    plot.renderers.append(male_quad_glyph)\n",
      "\n",
      "    female_quad = Quad(left=0, right=\"female\", bottom=\"groups\", top=\"shifted\", fill_color=\"#CFF09E\")\n",
      "    female_quad_glyph = Glyph(data_source=source_pyramid, xdata_range=xdr, ydata_range=ydr, glyph=female_quad)\n",
      "    plot.renderers.append(female_quad_glyph)\n",
      "\n",
      "    legend = Legend(plot=plot, legends=dict(Male=[male_quad_glyph], Female=[female_quad_glyph]))\n",
      "    plot.renderers.append(legend)\n",
      "\n",
      "    return plot\n",
      "\n",
      "source_known = ColumnDataSource(data=dict(x=[], y=[]))\n",
      "source_predicted = ColumnDataSource(data=dict(x=[], y=[]))\n",
      "\n",
      "def population():\n",
      "    xdr = FactorRange(factors=years)\n",
      "    ydr = DataRange1d(sources=[source_known.columns(\"y\"), source_predicted.columns(\"y\")])\n",
      "\n",
      "    plot = Plot(title=None, data_sources=[source_known, source_predicted], x_range=xdr, y_range=ydr, plot_width=800, plot_height=200)\n",
      "\n",
      "    xaxis = CategoricalAxis(plot=plot, dimension=0, major_label_orientation=pi/4)\n",
      "    # yaxis = LinearAxis(plot=plot, dimension=1, ...)\n",
      "\n",
      "    line_known = Line(x=\"x\", y=\"y\", line_color=\"violet\", line_width=2)\n",
      "    line_known_glyph = Glyph(data_source=source_known, xdata_range=xdr, ydata_range=ydr, glyph=line_known)\n",
      "    plot.renderers.append(line_known_glyph)\n",
      "\n",
      "    line_predicted = Line(x=\"x\", y=\"y\", line_color=\"violet\", line_width=2, line_dash=\"dashed\")\n",
      "    line_predicted_glyph = Glyph(data_source=source_predicted, xdata_range=xdr, ydata_range=ydr, glyph=line_predicted)\n",
      "    plot.renderers.append(line_predicted_glyph)\n",
      "\n",
      "    legend = Legend(plot=plot, orientation=\"bottom_right\", legends=dict(known=[line_known_glyph], predicted=[line_predicted_glyph]))\n",
      "    plot.renderers.append(legend)\n",
      "\n",
      "    return plot\n",
      "\n",
      "def update_pyramid():\n",
      "    pyramid = df[(df.Location == location) & (df.Year == year)]\n",
      "\n",
      "    male = pyramid[pyramid.Sex == \"Male\"]\n",
      "    female = pyramid[pyramid.Sex == \"Female\"]\n",
      "\n",
      "    total = male.Value.sum() + female.Value.sum()\n",
      "\n",
      "    male_percent = -male.Value/total\n",
      "    female_percent = female.Value/total\n",
      "\n",
      "    groups = male.AgeGrpStart.tolist()\n",
      "    shifted = groups[1:] + [groups[-1] + 5]\n",
      "\n",
      "    source_pyramid.data = dict(\n",
      "        groups=groups,\n",
      "        shifted=shifted,\n",
      "        male=male_percent,\n",
      "        female=female_percent,\n",
      "    )\n",
      "\n",
      "def update_population():\n",
      "    population = df[df.Location == location].groupby(df.Year).Value.sum()\n",
      "    aligned_revision = revision//10 * 10\n",
      "\n",
      "    known = population[population.index <= aligned_revision]\n",
      "    predicted = population[population.index >= aligned_revision]\n",
      "\n",
      "    source_known.data = dict(x=known.index.map(str), y=known.values)\n",
      "    source_predicted.data = dict(x=predicted.index.map(str), y=predicted.values)\n",
      "\n",
      "def update_data():\n",
      "    update_population()\n",
      "    update_pyramid()\n",
      "    session.store_document(document)\n",
      "\n",
      "def on_year_change(obj, attr, old, new):\n",
      "    global year\n",
      "    year = int(new)\n",
      "    update_data()\n",
      "\n",
      "def on_location_change(obj, attr, old, new):\n",
      "    global location\n",
      "    location = new\n",
      "    update_data()\n",
      "\n",
      "def layout():\n",
      "    year_select = Select(title=\"Year:\", value=\"2010\", options=years)\n",
      "    location_select = Select(title=\"Location:\", value=\"World\", options=locations)\n",
      "\n",
      "    year_select.on_change('value', on_year_change)\n",
      "    location_select.on_change('value', on_location_change)\n",
      "\n",
      "    controls = HBox(children=[year_select, location_select])\n",
      "    layout = VBox(children=[controls, pyramid(), population()])\n",
      "\n",
      "    return layout\n",
      "\n",
      "document.add(layout())\n",
      "update_data()\n",
      "\n",
      "output_notebook(url=\"default\", session=session)"
     ],
     "language": "python",
     "metadata": {},
     "outputs": [
      {
       "output_type": "stream",
       "stream": "stderr",
       "text": [
        "/Users/Christine/.virtualenvs/python_science/lib/python2.7/site-packages/pandas/io/excel.py:626: UserWarning: Installed openpyxl is not supported at this time. Use >=1.6.1 and <2.0.0.\n",
        "  .format(openpyxl_compat.start_ver, openpyxl_compat.stop_ver))\n"
       ]
      }
     ],
     "prompt_number": 1
    },
    {
     "cell_type": "code",
     "collapsed": false,
     "input": [
      "show()"
     ],
     "language": "python",
     "metadata": {},
     "outputs": [
      {
       "output_type": "stream",
       "stream": "stdout",
       "text": [
        "None\n"
       ]
      },
      {
       "output_type": "stream",
       "stream": "stderr",
       "text": [
        "/Users/Christine/.virtualenvs/python_science/lib/python2.7/site-packages/bokeh/plotting.py:227: UserWarning: No current plot to show. Use renderer functions (circle, rect, etc.) to create a current plot (see http://bokeh.pydata.org/index.html)\n",
        "  warnings.warn(\"No current plot to show. Use renderer functions (circle, rect, etc.) to create a current plot (see http://bokeh.pydata.org/index.html)\")\n"
       ]
      }
     ],
     "prompt_number": 2
    },
    {
     "cell_type": "code",
     "collapsed": false,
     "input": [
      "layout()"
     ],
     "language": "python",
     "metadata": {},
     "outputs": [
      {
       "metadata": {},
       "output_type": "pyout",
       "prompt_number": 3,
       "text": [
        "<bokeh.widgetobjects.VBox at 0x10630f8d0>"
       ]
      }
     ],
     "prompt_number": 3
    },
    {
     "cell_type": "code",
     "collapsed": false,
     "input": [
      "myplot=population()\n",
      "myplot2=pyramid()"
     ],
     "language": "python",
     "metadata": {},
     "outputs": [],
     "prompt_number": 4
    },
    {
     "cell_type": "code",
     "collapsed": false,
     "input": [
      "population()"
     ],
     "language": "python",
     "metadata": {},
     "outputs": [
      {
       "metadata": {},
       "output_type": "pyout",
       "prompt_number": 5,
       "text": [
        "<bokeh.objects.Plot at 0x106314090>"
       ]
      }
     ],
     "prompt_number": 5
    },
    {
     "cell_type": "code",
     "collapsed": false,
     "input": [
      "show(myplot)"
     ],
     "language": "python",
     "metadata": {},
     "outputs": [
      {
       "output_type": "stream",
       "stream": "stdout",
       "text": [
        "Plot, ViewModel:Plot, ref _id: 30efbb49-87d4-4708-98d0-6b66c3d816e2\n"
       ]
      },
      {
       "html": [
        "<script type=\"text/javascript\">\n",
        "        $(function() {\n",
        "            var modelid = \"30efbb49-87d4-4708-98d0-6b66c3d816e2\";\n",
        "            var modeltype = \"Plot\";\n",
        "            var elementid = \"0d231da2-3b93-4f18-b613-3935af3387e2\";\n",
        "            console.log(\"  modeltype:\", modeltype);\n",
        "            console.log(\"  modelid:\", modelid);\n",
        "            console.log(\"  elementid:\", elementid);\n",
        "            var all_models = [{\"attributes\": {\"column_names\": [\"y\", \"x\"], \"doc\": null, \"selected\": [], \"discrete_ranges\": {}, \"cont_ranges\": {}, \"data\": {\"y\": [2525778669.0, 2761650981.0, 3026002942.0, 3329122479.0, 3691172616.0, 4071020434.0, 4449048798.0, 4863601517.0, 5320816667.0, 5741822412.0, 6127700428.0, 6514094605.0, 6916183482.0], \"x\": [\"1950\", \"1955\", \"1960\", \"1965\", \"1970\", \"1975\", \"1980\", \"1985\", \"1990\", \"1995\", \"2000\", \"2005\", \"2010\"]}, \"id\": \"8480a53e-8d47-4f96-b12b-aa9659a11249\"}, \"type\": \"ColumnDataSource\", \"id\": \"8480a53e-8d47-4f96-b12b-aa9659a11249\"}, {\"attributes\": {\"plot\": {\"type\": \"Plot\", \"id\": \"30efbb49-87d4-4708-98d0-6b66c3d816e2\"}, \"doc\": null, \"id\": \"8f29b8d6-a8e8-4667-93ca-c2191f476c55\", \"major_label_orientation\": 0.7853981633974483, \"formatter\": {\"type\": \"CategoricalTickFormatter\", \"id\": \"cc090853-267f-4996-848b-6ae515a40a7c\"}, \"ticker\": {\"type\": \"CategoricalTicker\", \"id\": \"3ad9d4eb-bbba-4c9c-908a-9734aa1340a0\"}, \"dimension\": 0}, \"type\": \"CategoricalAxis\", \"id\": \"8f29b8d6-a8e8-4667-93ca-c2191f476c55\"}, {\"attributes\": {\"x_range\": {\"type\": \"FactorRange\", \"id\": \"e586ea0b-098d-4079-8b73-b39d9f0c8082\"}, \"data_sources\": [{\"type\": \"ColumnDataSource\", \"id\": \"8480a53e-8d47-4f96-b12b-aa9659a11249\"}, {\"type\": \"ColumnDataSource\", \"id\": \"fa0c0fef-d6a3-40bb-8b09-c684720f0ec7\"}], \"y_range\": {\"type\": \"DataRange1d\", \"id\": \"6fa90778-4625-44ac-b566-88e8e532f507\"}, \"outer_width\": 800, \"renderers\": [{\"type\": \"CategoricalAxis\", \"id\": \"8f29b8d6-a8e8-4667-93ca-c2191f476c55\"}, {\"type\": \"Glyph\", \"id\": \"c946c853-4c14-4cf8-a322-ce0775391551\"}, {\"type\": \"Glyph\", \"id\": \"88310b80-8954-437b-aef0-03fafe31041d\"}, {\"type\": \"Legend\", \"id\": \"a97dc8a5-899a-4f95-8903-a307c781ce15\"}], \"plot_width\": 800, \"outer_height\": 200, \"plot_height\": 200, \"doc\": null, \"canvas_height\": 200, \"id\": \"30efbb49-87d4-4708-98d0-6b66c3d816e2\", \"title\": null, \"tools\": [], \"canvas_width\": 800}, \"type\": \"Plot\", \"id\": \"30efbb49-87d4-4708-98d0-6b66c3d816e2\"}, {\"attributes\": {\"doc\": null, \"id\": \"e586ea0b-098d-4079-8b73-b39d9f0c8082\", \"factors\": [\"1950\", \"1955\", \"1960\", \"1965\", \"1970\", \"1975\", \"1980\", \"1985\", \"1990\", \"1995\", \"2000\", \"2005\", \"2010\", \"2015\", \"2020\", \"2025\", \"2030\", \"2035\", \"2040\", \"2045\", \"2050\", \"2055\", \"2060\", \"2065\", \"2070\", \"2075\", \"2080\", \"2085\", \"2090\", \"2095\", \"2100\"]}, \"type\": \"FactorRange\", \"id\": \"e586ea0b-098d-4079-8b73-b39d9f0c8082\"}, {\"attributes\": {\"doc\": null, \"id\": \"cc090853-267f-4996-848b-6ae515a40a7c\"}, \"type\": \"CategoricalTickFormatter\", \"id\": \"cc090853-267f-4996-848b-6ae515a40a7c\"}, {\"attributes\": {\"data_source\": {\"type\": \"ColumnDataSource\", \"id\": \"fa0c0fef-d6a3-40bb-8b09-c684720f0ec7\"}, \"name\": null, \"server_data_source\": null, \"doc\": null, \"xdata_range\": {\"type\": \"FactorRange\", \"id\": \"e586ea0b-098d-4079-8b73-b39d9f0c8082\"}, \"ydata_range\": {\"type\": \"DataRange1d\", \"id\": \"6fa90778-4625-44ac-b566-88e8e532f507\"}, \"glyphspec\": {\"line_color\": {\"value\": \"violet\"}, \"line_width\": {\"units\": \"data\", \"value\": 2}, \"line_alpha\": {\"units\": \"data\", \"field\": 1.0}, \"y\": {\"units\": \"data\", \"field\": \"y\"}, \"line_dash\": [6], \"x\": {\"units\": \"data\", \"field\": \"x\"}, \"type\": \"line\"}, \"id\": \"88310b80-8954-437b-aef0-03fafe31041d\"}, \"type\": \"Glyph\", \"id\": \"88310b80-8954-437b-aef0-03fafe31041d\"}, {\"attributes\": {\"column_names\": [\"y\", \"x\"], \"doc\": null, \"selected\": [], \"discrete_ranges\": {}, \"cont_ranges\": {}, \"data\": {\"y\": [6916183482.0, 7324782225.0, 7716749042.0, 8083412759.0, 8424937474.0, 8743446952.0, 9038687151.0, 9308438178.0, 9550944891.0, 9766475107.0, 9957398588.0, 10127006921.0, 10277339229.0, 10409149043.0, 10524161005.0, 10626467422.0, 10717401021.0, 10794252256.0, 10853848570.0], \"x\": [\"2010\", \"2015\", \"2020\", \"2025\", \"2030\", \"2035\", \"2040\", \"2045\", \"2050\", \"2055\", \"2060\", \"2065\", \"2070\", \"2075\", \"2080\", \"2085\", \"2090\", \"2095\", \"2100\"]}, \"id\": \"fa0c0fef-d6a3-40bb-8b09-c684720f0ec7\"}, \"type\": \"ColumnDataSource\", \"id\": \"fa0c0fef-d6a3-40bb-8b09-c684720f0ec7\"}, {\"attributes\": {\"doc\": null, \"id\": \"3ad9d4eb-bbba-4c9c-908a-9734aa1340a0\"}, \"type\": \"CategoricalTicker\", \"id\": \"3ad9d4eb-bbba-4c9c-908a-9734aa1340a0\"}, {\"attributes\": {\"data_source\": {\"type\": \"ColumnDataSource\", \"id\": \"8480a53e-8d47-4f96-b12b-aa9659a11249\"}, \"name\": null, \"server_data_source\": null, \"doc\": null, \"xdata_range\": {\"type\": \"FactorRange\", \"id\": \"e586ea0b-098d-4079-8b73-b39d9f0c8082\"}, \"ydata_range\": {\"type\": \"DataRange1d\", \"id\": \"6fa90778-4625-44ac-b566-88e8e532f507\"}, \"glyphspec\": {\"line_color\": {\"value\": \"violet\"}, \"line_width\": {\"units\": \"data\", \"value\": 2}, \"line_alpha\": {\"units\": \"data\", \"field\": 1.0}, \"y\": {\"units\": \"data\", \"field\": \"y\"}, \"x\": {\"units\": \"data\", \"field\": \"x\"}, \"type\": \"line\"}, \"id\": \"c946c853-4c14-4cf8-a322-ce0775391551\"}, \"type\": \"Glyph\", \"id\": \"c946c853-4c14-4cf8-a322-ce0775391551\"}, {\"attributes\": {\"sources\": [{\"source\": {\"type\": \"ColumnDataSource\", \"id\": \"8480a53e-8d47-4f96-b12b-aa9659a11249\"}, \"columns\": [\"y\"]}, {\"source\": {\"type\": \"ColumnDataSource\", \"id\": \"fa0c0fef-d6a3-40bb-8b09-c684720f0ec7\"}, \"columns\": [\"y\"]}], \"id\": \"6fa90778-4625-44ac-b566-88e8e532f507\", \"doc\": null}, \"type\": \"DataRange1d\", \"id\": \"6fa90778-4625-44ac-b566-88e8e532f507\"}, {\"attributes\": {\"plot\": {\"type\": \"Plot\", \"id\": \"30efbb49-87d4-4708-98d0-6b66c3d816e2\"}, \"legends\": {\"known\": [{\"type\": \"Glyph\", \"id\": \"c946c853-4c14-4cf8-a322-ce0775391551\"}], \"predicted\": [{\"type\": \"Glyph\", \"id\": \"88310b80-8954-437b-aef0-03fafe31041d\"}]}, \"doc\": null, \"id\": \"a97dc8a5-899a-4f95-8903-a307c781ce15\", \"orientation\": \"bottom_right\"}, \"type\": \"Legend\", \"id\": \"a97dc8a5-899a-4f95-8903-a307c781ce15\"}];\n",
        "            Bokeh.load_models(all_models);\n",
        "            var model = Bokeh.Collections(modeltype).get(modelid);\n",
        "            var view = new model.default_view({model: model, el: '#0d231da2-3b93-4f18-b613-3935af3387e2'});\n",
        "        });\n",
        "    </script>\n",
        "<div class=\"plotdiv\" id=\"0d231da2-3b93-4f18-b613-3935af3387e2\"></div>\n",
        "\n"
       ],
       "metadata": {},
       "output_type": "display_data"
      }
     ],
     "prompt_number": 6
    },
    {
     "cell_type": "code",
     "collapsed": false,
     "input": [
      "show(myplot2)"
     ],
     "language": "python",
     "metadata": {},
     "outputs": [
      {
       "output_type": "stream",
       "stream": "stdout",
       "text": [
        "Plot, ViewModel:Plot, ref _id: 2228b9a3-4763-42bd-bf4f-e77ce9cfa778\n"
       ]
      },
      {
       "html": [
        "<script type=\"text/javascript\">\n",
        "        $(function() {\n",
        "            var modelid = \"2228b9a3-4763-42bd-bf4f-e77ce9cfa778\";\n",
        "            var modeltype = \"Plot\";\n",
        "            var elementid = \"e35433e4-7a46-4ba0-824a-091ea9cd48f4\";\n",
        "            console.log(\"  modeltype:\", modeltype);\n",
        "            console.log(\"  modelid:\", modelid);\n",
        "            console.log(\"  elementid:\", elementid);\n",
        "            var all_models = [{\"attributes\": {\"plot\": {\"type\": \"Plot\", \"id\": \"2228b9a3-4763-42bd-bf4f-e77ce9cfa778\"}, \"doc\": null, \"dimension\": 0, \"formatter\": {\"type\": \"BasicTickFormatter\", \"id\": \"a8629d0a-d960-49a2-9d13-f3d721b16b53\"}, \"ticker\": {\"type\": \"BasicTicker\", \"id\": \"8f3d25b8-d145-48ac-84f1-d7e6cf2be01d\"}, \"id\": \"c56d249e-28a4-4419-8a3a-789247638909\"}, \"type\": \"LinearAxis\", \"id\": \"c56d249e-28a4-4419-8a3a-789247638909\"}, {\"attributes\": {\"doc\": null, \"id\": \"8f3d25b8-d145-48ac-84f1-d7e6cf2be01d\"}, \"type\": \"BasicTicker\", \"id\": \"8f3d25b8-d145-48ac-84f1-d7e6cf2be01d\"}, {\"attributes\": {\"doc\": null, \"id\": \"92fe95ee-c44d-4922-a4c1-35c8f24cc070\"}, \"type\": \"BasicTickFormatter\", \"id\": \"92fe95ee-c44d-4922-a4c1-35c8f24cc070\"}, {\"attributes\": {\"column_names\": [], \"doc\": null, \"selected\": [], \"discrete_ranges\": {}, \"cont_ranges\": {}, \"data\": {\"shifted\": [5, 10, 15, 20, 25, 30, 35, 40, 45, 50, 55, 60, 65, 70, 75, 80, 85, 90, 95, 100, 105], \"male\": [-0.04803909900087292, -0.04540565729889929, -0.044258523186473206, -0.04512990752954116, -0.04566083098025016, -0.04113504633594971, -0.036912796148978744, -0.035764593528173835, -0.03358340963690472, -0.029925685537213167, -0.02548709811686861, -0.0222401164457713, -0.016454090076727088, -0.012153044553944354, -0.009524030727558423, -0.006417278129695518, -0.0037278555531531803, -0.0015870034432380318, -0.0004459969877936214, -8.918762806183171e-05, -1.1891674102349965e-05], \"female\": [0.044809952888985545, 0.04241441233643662, 0.04143847799091689, 0.04249876362664145, 0.04360719460160788, 0.039761899278079334, 0.03583974219959828, 0.03491383356564339, 0.03282628657710906, 0.029661263547143123, 0.025493713615158828, 0.022602938803872527, 0.017429448671182606, 0.013404778118059766, 0.011275815513420759, 0.00826426556622692, 0.005577334248056318, 0.002924195700220435, 0.0009962809717141046, 0.00026709976749572883, 3.915989225920308e-05], \"groups\": [0, 5, 10, 15, 20, 25, 30, 35, 40, 45, 50, 55, 60, 65, 70, 75, 80, 85, 90, 95, 100]}, \"id\": \"eec418e7-b6b8-425c-b739-57511ce612a0\"}, \"type\": \"ColumnDataSource\", \"id\": \"eec418e7-b6b8-425c-b739-57511ce612a0\"}, {\"attributes\": {\"data_source\": {\"type\": \"ColumnDataSource\", \"id\": \"eec418e7-b6b8-425c-b739-57511ce612a0\"}, \"name\": null, \"server_data_source\": null, \"doc\": null, \"xdata_range\": {\"type\": \"DataRange1d\", \"id\": \"9be96535-9c8c-4511-b7d0-c6a12f9c8b3f\"}, \"ydata_range\": {\"type\": \"DataRange1d\", \"id\": \"d47b507e-005e-43ee-8825-3e544d875052\"}, \"glyphspec\": {\"line_color\": {\"value\": null}, \"line_width\": {\"units\": \"data\", \"field\": \"line_width\"}, \"right\": {\"units\": \"data\", \"value\": 0}, \"fill_color\": {\"value\": \"#3B8686\"}, \"bottom\": {\"units\": \"data\", \"field\": \"groups\"}, \"top\": {\"units\": \"data\", \"field\": \"shifted\"}, \"fill_alpha\": {\"units\": \"data\", \"field\": 1.0}, \"line_alpha\": {\"units\": \"data\", \"field\": 1.0}, \"type\": \"quad\", \"left\": {\"units\": \"data\", \"field\": \"male\"}}, \"id\": \"15a15ec2-89c7-4850-b997-2077331492e8\"}, \"type\": \"Glyph\", \"id\": \"15a15ec2-89c7-4850-b997-2077331492e8\"}, {\"attributes\": {\"x_range\": {\"type\": \"DataRange1d\", \"id\": \"9be96535-9c8c-4511-b7d0-c6a12f9c8b3f\"}, \"data_sources\": [{\"type\": \"ColumnDataSource\", \"id\": \"eec418e7-b6b8-425c-b739-57511ce612a0\"}], \"y_range\": {\"type\": \"DataRange1d\", \"id\": \"d47b507e-005e-43ee-8825-3e544d875052\"}, \"outer_width\": 600, \"renderers\": [{\"type\": \"LinearAxis\", \"id\": \"c56d249e-28a4-4419-8a3a-789247638909\"}, {\"type\": \"LinearAxis\", \"id\": \"d292b4ab-fba0-4283-9399-a00a89c1910a\"}, {\"type\": \"Grid\", \"id\": \"a2ecdac5-f480-4d34-be3a-c0245ee1d0ba\"}, {\"type\": \"Grid\", \"id\": \"a67e437c-c5a9-4560-b799-3c399b0c89cc\"}, {\"type\": \"Glyph\", \"id\": \"15a15ec2-89c7-4850-b997-2077331492e8\"}, {\"type\": \"Glyph\", \"id\": \"1b07f38b-2f3a-4779-9dc3-424fdcb2d526\"}, {\"type\": \"Legend\", \"id\": \"ef93863c-bd49-4ba6-9811-892a38e1ba0f\"}], \"plot_width\": 600, \"outer_height\": 600, \"plot_height\": 600, \"doc\": null, \"canvas_height\": 600, \"id\": \"2228b9a3-4763-42bd-bf4f-e77ce9cfa778\", \"title\": null, \"tools\": [], \"canvas_width\": 600}, \"type\": \"Plot\", \"id\": \"2228b9a3-4763-42bd-bf4f-e77ce9cfa778\"}, {\"attributes\": {\"plot\": {\"type\": \"Plot\", \"id\": \"2228b9a3-4763-42bd-bf4f-e77ce9cfa778\"}, \"doc\": null, \"dimension\": 1, \"formatter\": {\"type\": \"BasicTickFormatter\", \"id\": \"92fe95ee-c44d-4922-a4c1-35c8f24cc070\"}, \"ticker\": {\"type\": \"SingleIntervalTicker\", \"id\": \"55d9a7d5-aea9-4f81-938c-8ef962ee21c0\"}, \"id\": \"d292b4ab-fba0-4283-9399-a00a89c1910a\"}, \"type\": \"LinearAxis\", \"id\": \"d292b4ab-fba0-4283-9399-a00a89c1910a\"}, {\"attributes\": {\"plot\": {\"type\": \"Plot\", \"id\": \"2228b9a3-4763-42bd-bf4f-e77ce9cfa778\"}, \"doc\": null, \"axis\": {\"type\": \"LinearAxis\", \"id\": \"d292b4ab-fba0-4283-9399-a00a89c1910a\"}, \"id\": \"a67e437c-c5a9-4560-b799-3c399b0c89cc\", \"dimension\": 1}, \"type\": \"Grid\", \"id\": \"a67e437c-c5a9-4560-b799-3c399b0c89cc\"}, {\"attributes\": {\"sources\": [{\"source\": {\"type\": \"ColumnDataSource\", \"id\": \"eec418e7-b6b8-425c-b739-57511ce612a0\"}, \"columns\": [\"male\"]}, {\"source\": {\"type\": \"ColumnDataSource\", \"id\": \"eec418e7-b6b8-425c-b739-57511ce612a0\"}, \"columns\": [\"female\"]}], \"id\": \"9be96535-9c8c-4511-b7d0-c6a12f9c8b3f\", \"doc\": null}, \"type\": \"DataRange1d\", \"id\": \"9be96535-9c8c-4511-b7d0-c6a12f9c8b3f\"}, {\"attributes\": {\"plot\": {\"type\": \"Plot\", \"id\": \"2228b9a3-4763-42bd-bf4f-e77ce9cfa778\"}, \"doc\": null, \"axis\": {\"type\": \"LinearAxis\", \"id\": \"c56d249e-28a4-4419-8a3a-789247638909\"}, \"id\": \"a2ecdac5-f480-4d34-be3a-c0245ee1d0ba\", \"dimension\": 0}, \"type\": \"Grid\", \"id\": \"a2ecdac5-f480-4d34-be3a-c0245ee1d0ba\"}, {\"attributes\": {\"plot\": {\"type\": \"Plot\", \"id\": \"2228b9a3-4763-42bd-bf4f-e77ce9cfa778\"}, \"legends\": {\"Male\": [{\"type\": \"Glyph\", \"id\": \"15a15ec2-89c7-4850-b997-2077331492e8\"}], \"Female\": [{\"type\": \"Glyph\", \"id\": \"1b07f38b-2f3a-4779-9dc3-424fdcb2d526\"}]}, \"doc\": null, \"id\": \"ef93863c-bd49-4ba6-9811-892a38e1ba0f\"}, \"type\": \"Legend\", \"id\": \"ef93863c-bd49-4ba6-9811-892a38e1ba0f\"}, {\"attributes\": {\"doc\": null, \"id\": \"55d9a7d5-aea9-4f81-938c-8ef962ee21c0\", \"interval\": 5}, \"type\": \"SingleIntervalTicker\", \"id\": \"55d9a7d5-aea9-4f81-938c-8ef962ee21c0\"}, {\"attributes\": {\"sources\": [{\"source\": {\"type\": \"ColumnDataSource\", \"id\": \"eec418e7-b6b8-425c-b739-57511ce612a0\"}, \"columns\": [\"groups\"]}], \"id\": \"d47b507e-005e-43ee-8825-3e544d875052\", \"doc\": null}, \"type\": \"DataRange1d\", \"id\": \"d47b507e-005e-43ee-8825-3e544d875052\"}, {\"attributes\": {\"doc\": null, \"id\": \"a8629d0a-d960-49a2-9d13-f3d721b16b53\"}, \"type\": \"BasicTickFormatter\", \"id\": \"a8629d0a-d960-49a2-9d13-f3d721b16b53\"}, {\"attributes\": {\"data_source\": {\"type\": \"ColumnDataSource\", \"id\": \"eec418e7-b6b8-425c-b739-57511ce612a0\"}, \"name\": null, \"server_data_source\": null, \"doc\": null, \"xdata_range\": {\"type\": \"DataRange1d\", \"id\": \"9be96535-9c8c-4511-b7d0-c6a12f9c8b3f\"}, \"ydata_range\": {\"type\": \"DataRange1d\", \"id\": \"d47b507e-005e-43ee-8825-3e544d875052\"}, \"glyphspec\": {\"line_color\": {\"value\": null}, \"line_width\": {\"units\": \"data\", \"field\": \"line_width\"}, \"right\": {\"units\": \"data\", \"field\": \"female\"}, \"fill_color\": {\"value\": \"#CFF09E\"}, \"bottom\": {\"units\": \"data\", \"field\": \"groups\"}, \"top\": {\"units\": \"data\", \"field\": \"shifted\"}, \"fill_alpha\": {\"units\": \"data\", \"field\": 1.0}, \"line_alpha\": {\"units\": \"data\", \"field\": 1.0}, \"type\": \"quad\", \"left\": {\"units\": \"data\", \"value\": 0}}, \"id\": \"1b07f38b-2f3a-4779-9dc3-424fdcb2d526\"}, \"type\": \"Glyph\", \"id\": \"1b07f38b-2f3a-4779-9dc3-424fdcb2d526\"}];\n",
        "            Bokeh.load_models(all_models);\n",
        "            var model = Bokeh.Collections(modeltype).get(modelid);\n",
        "            var view = new model.default_view({model: model, el: '#e35433e4-7a46-4ba0-824a-091ea9cd48f4'});\n",
        "        });\n",
        "    </script>\n",
        "<div class=\"plotdiv\" id=\"e35433e4-7a46-4ba0-824a-091ea9cd48f4\"></div>\n",
        "\n"
       ],
       "metadata": {},
       "output_type": "display_data"
      }
     ],
     "prompt_number": 7
    }
   ],
   "metadata": {}
  }
 ]
}