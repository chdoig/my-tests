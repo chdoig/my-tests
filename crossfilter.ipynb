{
 "metadata": {
  "name": "",
  "signature": "sha256:1327601b4e4a3bb2bd2e94149731b9920c1f6276092b5a54813520b545ff1dd0"
 },
 "nbformat": 3,
 "nbformat_minor": 0,
 "worksheets": [
  {
   "cells": [
    {
     "cell_type": "code",
     "collapsed": false,
     "input": [
      "from bokeh.crossfilter.objects import CrossFilter\n",
      "from bokeh.sampledata.autompg import autompg\n",
      "from bokeh.document import Document\n",
      "from bokeh.session import Session\n",
      "from bokeh.plotting import *\n",
      "\n",
      "autompg['cyl'] = autompg['cyl'].astype(str)\n",
      "autompg['origin'] = autompg['cyl'].astype(str)\n",
      "app = CrossFilter.create(df=autompg)\n",
      "\n",
      "document = Document()\n",
      "session = Session()\n",
      "session.use_doc('crossfilter')\n",
      "session.load_document(document)"
     ],
     "language": "python",
     "metadata": {},
     "outputs": [
      {
       "output_type": "stream",
       "stream": "stdout",
       "text": [
        "Using saved session configuration for http://localhost:5006/\n",
        "To override, pass 'load_from_config=False' to Session\n"
       ]
      }
     ],
     "prompt_number": 5
    },
    {
     "cell_type": "code",
     "collapsed": false,
     "input": [
      "app"
     ],
     "language": "python",
     "metadata": {},
     "outputs": [
      {
       "metadata": {},
       "output_type": "pyout",
       "prompt_number": 6,
       "text": [
        "<bokeh.crossfilter.objects.CrossFilter at 0x105879e50>"
       ]
      }
     ],
     "prompt_number": 6
    },
    {
     "cell_type": "code",
     "collapsed": false,
     "input": [
      "document.add(app)\n",
      "session.store_document(document)"
     ],
     "language": "python",
     "metadata": {},
     "outputs": [
      {
       "metadata": {},
       "output_type": "pyout",
       "prompt_number": 7,
       "text": [
        "[<bokeh.objects.DataRange1d at 0x1058a63d0>,\n",
        " <bokeh.objects.Grid at 0x1058a6910>,\n",
        " <bokeh.objects.BoxSelectionOverlay at 0x1058a6b50>,\n",
        " <bokeh.objects.BoxSelectTool at 0x1058a6c90>,\n",
        " <bokeh.objects.Plot at 0x1058a6850>,\n",
        " <bokeh.objects.PlotContext at 0x1055b2e90>,\n",
        " <bokeh.objects.BoxSelectionOverlay at 0x1058a6bd0>,\n",
        " <bokeh.objects.PanTool at 0x1058a6ad0>,\n",
        " <bokeh.crossfilter.objects.CrossFilter at 0x105879e50>,\n",
        " <bokeh.objects.LinearAxis at 0x1058a6710>,\n",
        " <bokeh.objects.ResetTool at 0x1058a6d90>,\n",
        " <bokeh.objects.DataRange1d at 0x1058a6790>,\n",
        " <bokeh.widgetobjects.Select at 0x1058a6e50>,\n",
        " <bokeh.widgetobjects.Select at 0x1058a6e90>,\n",
        " <bokeh.objects.LinearAxis at 0x1058a6950>,\n",
        " <bokeh.objects.BasicTickFormatter at 0x1058a6a10>,\n",
        " <bokeh.objects.ResizeTool at 0x1058a6cd0>,\n",
        " <bokeh.widgetobjects.Select at 0x1058a6e10>,\n",
        " <bokeh.objects.BasicTicker at 0x1058a6890>,\n",
        " <bokeh.objects.PreviewSaveTool at 0x1058a6b10>,\n",
        " <bokeh.objects.WheelZoomTool at 0x1058a6b90>,\n",
        " <bokeh.objects.BasicTicker at 0x1058a6990>,\n",
        " <bokeh.objects.Glyph at 0x1058a6d50>,\n",
        " <bokeh.objects.BoxZoomTool at 0x1058a6c10>,\n",
        " <bokeh.objects.ColumnDataSource at 0x1055b2e10>,\n",
        " <bokeh.widgetobjects.Select at 0x1058a6ed0>,\n",
        " <bokeh.objects.BasicTickFormatter at 0x1058a68d0>,\n",
        " <bokeh.objects.ColumnDataSource at 0x1055b2dd0>,\n",
        " <bokeh.objects.Grid at 0x1058a6a50>]"
       ]
      }
     ],
     "prompt_number": 7
    },
    {
     "cell_type": "code",
     "collapsed": false,
     "input": [
      "session.show(app)"
     ],
     "language": "python",
     "metadata": {},
     "outputs": [
      {
       "html": [
        "<script\n",
        "    src=\"http://localhost:5006/bokeh/autoload.js/4a88f6b1-4637-479b-85b8-b5c1473d03bc\"\n",
        "    id=\"4a88f6b1-4637-479b-85b8-b5c1473d03bc\"\n",
        "    async=\"true\"\n",
        "    data-bokeh-data=\"server\"\n",
        "    data-bokeh-modelid=\"b7cfec6d-e3eb-4115-bb7e-b10a08c9c9c5\"\n",
        "    data-bokeh-modeltype=\"CrossFilter\"\n",
        "    data-bokeh-root-url=\"http://localhost:5006/\"\n",
        "    data-bokeh-docid=\"1633384b-55cd-43d8-8679-dccccd4adfbd\"\n",
        "    data-bokeh-docapikey=\"7f2bfe15-b0be-45f1-8b05-c6696d50aeee\"\n",
        "    data-bokeh-conn-string=\"ws://localhost:5006/bokeh/sub\"\n",
        "></script>\n"
       ],
       "metadata": {},
       "output_type": "display_data"
      }
     ],
     "prompt_number": 8
    }
   ],
   "metadata": {}
  }
 ]
}