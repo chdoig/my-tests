{
 "metadata": {
  "name": "",
  "signature": "sha256:76089da997605e3b05c53fdd61dad63feaa317959b7b06b8d0df200b8decbc92"
 },
 "nbformat": 3,
 "nbformat_minor": 0,
 "worksheets": [
  {
   "cells": [
    {
     "cell_type": "code",
     "collapsed": false,
     "input": [
      "from bokeh.crossfilter.objects import CrossFilter\n",
      "from bokeh.sampledata.autompg import autompg\n",
      "from bokeh.document import Document\n",
      "from bokeh.session import Session\n",
      "from bokeh.plotting import *\n",
      "\n",
      "autompg['cyl'] = autompg['cyl'].astype(str)\n",
      "autompg['origin'] = autompg['cyl'].astype(str)\n",
      "app = CrossFilter.create(df=autompg)\n",
      "\n",
      "document = Document()\n",
      "session = Session()\n",
      "session.use_doc('crossfilter')\n",
      "session.load_document(document)"
     ],
     "language": "python",
     "metadata": {},
     "outputs": [
      {
       "output_type": "stream",
       "stream": "stdout",
       "text": [
        "Using saved session configuration for http://localhost:5006/\n",
        "To override, pass 'load_from_config=False' to Session\n"
       ]
      }
     ],
     "prompt_number": 1
    },
    {
     "cell_type": "code",
     "collapsed": false,
     "input": [
      "app"
     ],
     "language": "python",
     "metadata": {},
     "outputs": [
      {
       "metadata": {},
       "output_type": "pyout",
       "prompt_number": 2,
       "text": [
        "<bokeh.crossfilter.objects.CrossFilter at 0x10553c9d0>"
       ]
      }
     ],
     "prompt_number": 2
    },
    {
     "cell_type": "code",
     "collapsed": false,
     "input": [
      "document.add(app)\n",
      "session.store_document(document)"
     ],
     "language": "python",
     "metadata": {},
     "outputs": [
      {
       "metadata": {},
       "output_type": "pyout",
       "prompt_number": 3,
       "text": [
        "[<bokeh.objects.BasicTicker at 0x1057d1e90>,\n",
        " <bokeh.widgetobjects.Select at 0x1057d8510>,\n",
        " <bokeh.crossfilter.objects.CrossFilter at 0x10553c9d0>,\n",
        " <bokeh.widgetobjects.Select at 0x1057d8410>,\n",
        " <bokeh.objects.LinearAxis at 0x1057d1e50>,\n",
        " <bokeh.objects.PanTool at 0x1057d80d0>,\n",
        " <bokeh.objects.Grid at 0x1057d1f10>,\n",
        " <bokeh.objects.ResetTool at 0x1057d83d0>,\n",
        " <bokeh.objects.BasicTicker at 0x1057d1f90>,\n",
        " <bokeh.objects.WheelZoomTool at 0x1057d81d0>,\n",
        " <bokeh.objects.ColumnDataSource at 0x1055b2c50>,\n",
        " <bokeh.objects.Plot at 0x1057d1d90>,\n",
        " <bokeh.objects.LinearAxis at 0x1057d1f50>,\n",
        " <bokeh.objects.BasicTickFormatter at 0x1057d1ed0>,\n",
        " <bokeh.objects.PlotContext at 0x10553c750>,\n",
        " <bokeh.objects.PreviewSaveTool at 0x1057d8190>,\n",
        " <bokeh.objects.BoxSelectTool at 0x1057d82d0>,\n",
        " <bokeh.objects.ResizeTool at 0x1057d8310>,\n",
        " <bokeh.widgetobjects.Select at 0x1057d84d0>,\n",
        " <bokeh.objects.Glyph at 0x104e8dcd0>,\n",
        " <bokeh.objects.BoxZoomTool at 0x1057d8250>,\n",
        " <bokeh.objects.DataRange1d at 0x1057d1dd0>,\n",
        " <bokeh.objects.BoxSelectionOverlay at 0x1057d8210>,\n",
        " <bokeh.objects.ColumnDataSource at 0x10553c990>,\n",
        " <bokeh.objects.Grid at 0x1057d8050>,\n",
        " <bokeh.objects.BasicTickFormatter at 0x1057d1fd0>,\n",
        " <bokeh.objects.DataRange1d at 0x1057d1e10>,\n",
        " <bokeh.objects.BoxSelectionOverlay at 0x1057d8110>,\n",
        " <bokeh.widgetobjects.Select at 0x1057d8490>]"
       ]
      }
     ],
     "prompt_number": 3
    },
    {
     "cell_type": "code",
     "collapsed": false,
     "input": [
      "session.show(app)"
     ],
     "language": "python",
     "metadata": {},
     "outputs": [
      {
       "html": [
        "<script\n",
        "    src=\"http://localhost:5006/bokeh/autoload.js/389166b9-fe4e-4254-bbca-1424f4a1d059\"\n",
        "    id=\"389166b9-fe4e-4254-bbca-1424f4a1d059\"\n",
        "    async=\"true\"\n",
        "    data-bokeh-data=\"server\"\n",
        "    data-bokeh-modelid=\"bd185795-e6d0-4037-b808-d2a5d71221eb\"\n",
        "    data-bokeh-modeltype=\"CrossFilter\"\n",
        "    data-bokeh-root-url=\"http://localhost:5006/\"\n",
        "    data-bokeh-docid=\"1cc3abbc-ac1d-4b11-9ec2-be4c87dcf205\"\n",
        "    data-bokeh-docapikey=\"486a5e6c-8f9d-42da-a7bb-53fb7f45da9f\"\n",
        "    data-bokeh-conn-string=\"ws://localhost:5006/bokeh/sub\"\n",
        "></script>\n"
       ],
       "metadata": {},
       "output_type": "display_data"
      }
     ],
     "prompt_number": 4
    },
    {
     "cell_type": "code",
     "collapsed": false,
     "input": [],
     "language": "python",
     "metadata": {},
     "outputs": [],
     "prompt_number": 4
    }
   ],
   "metadata": {}
  }
 ]
}