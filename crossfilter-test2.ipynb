{
 "metadata": {
  "name": "",
  "signature": "sha256:bf000daa6247137eb0388d621e9162b4cacf5419cc210a414dbc85a4c5bf117a"
 },
 "nbformat": 3,
 "nbformat_minor": 0,
 "worksheets": [
  {
   "cells": [
    {
     "cell_type": "code",
     "collapsed": false,
     "input": [
      "from bokeh.crossfilter.objects import CrossFilter\n",
      "from bokeh.sampledata.autompg import autompg\n",
      "from bokeh.document import Document\n",
      "from bokeh.session import Session\n",
      "from bokeh.plotting import *\n",
      "\n",
      "autompg['cyl'] = autompg['cyl'].astype(str)\n",
      "autompg['origin'] = autompg['cyl'].astype(str)\n",
      "app = CrossFilter.create(df=autompg)\n",
      "\n",
      "#document = Document()\n",
      "#session = Session()\n",
      "#session.use_doc('crossfilter')\n",
      "#session.load_document(document)"
     ],
     "language": "python",
     "metadata": {},
     "outputs": [],
     "prompt_number": 1
    },
    {
     "cell_type": "code",
     "collapsed": false,
     "input": [
      "app"
     ],
     "language": "python",
     "metadata": {},
     "outputs": [
      {
       "metadata": {},
       "output_type": "pyout",
       "prompt_number": 2,
       "text": [
        "<bokeh.crossfilter.objects.CrossFilter at 0x10563c4d0>"
       ]
      }
     ],
     "prompt_number": 2
    },
    {
     "cell_type": "code",
     "collapsed": false,
     "input": [
      "#document.add(app)\n",
      "#session.store_document(document)"
     ],
     "language": "python",
     "metadata": {},
     "outputs": [],
     "prompt_number": 3
    },
    {
     "cell_type": "code",
     "collapsed": false,
     "input": [
      "#session.show(app)"
     ],
     "language": "python",
     "metadata": {},
     "outputs": [],
     "prompt_number": 4
    },
    {
     "cell_type": "code",
     "collapsed": false,
     "input": [
      "output_notebook(url=\"default\")"
     ],
     "language": "python",
     "metadata": {},
     "outputs": [
      {
       "output_type": "stream",
       "stream": "stdout",
       "text": [
        "Using saved session configuration for http://localhost:5006/\n",
        "To override, pass 'load_from_config=False' to Session\n"
       ]
      }
     ],
     "prompt_number": 5
    },
    {
     "cell_type": "code",
     "collapsed": false,
     "input": [
      "show(app)"
     ],
     "language": "python",
     "metadata": {},
     "outputs": [
      {
       "output_type": "stream",
       "stream": "stdout",
       "text": [
        "CrossFilter, ViewModel:CrossFilter, ref _id: 77c8d46d-d702-4cf2-a6bb-aaafed217ab0\n"
       ]
      },
      {
       "html": [
        "<script\n",
        "    src=\"http://localhost:5006/bokeh/autoload.js/62e0e3a1-fd23-4789-934a-7122167bf365\"\n",
        "    id=\"62e0e3a1-fd23-4789-934a-7122167bf365\"\n",
        "    async=\"true\"\n",
        "    data-bokeh-data=\"server\"\n",
        "    data-bokeh-modelid=\"77c8d46d-d702-4cf2-a6bb-aaafed217ab0\"\n",
        "    data-bokeh-modeltype=\"CrossFilter\"\n",
        "    data-bokeh-root-url=\"http://localhost:5006/\"\n",
        "    data-bokeh-docid=\"ef840a59-5dcf-4dab-8f65-f4bf6116f9aa\"\n",
        "    data-bokeh-docapikey=\"e1664c61-b754-4e38-bf9c-f786327d763f\"\n",
        "    data-bokeh-conn-string=\"ws://localhost:5006/bokeh/sub\"\n",
        "></script>\n"
       ],
       "metadata": {},
       "output_type": "display_data"
      }
     ],
     "prompt_number": 6
    }
   ],
   "metadata": {}
  }
 ]
}