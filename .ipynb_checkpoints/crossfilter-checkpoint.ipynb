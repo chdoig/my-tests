{
 "metadata": {
  "name": "",
  "signature": "sha256:f3525eabd0971e9f0e72de41c82b8656ef79ebae260fb754757a242235f4b4ab"
 },
 "nbformat": 3,
 "nbformat_minor": 0,
 "worksheets": [
  {
   "cells": [
    {
     "cell_type": "code",
     "collapsed": false,
     "input": [
      "from bokeh.crossfilter.objects import CrossFilter\n",
      "from bokeh.sampledata.autompg import autompg\n",
      "from bokeh.document import Document\n",
      "from bokeh.session import Session\n",
      "from bokeh.plotting import *\n",
      "\n",
      "autompg['cyl'] = autompg['cyl'].astype(str)\n",
      "autompg['origin'] = autompg['cyl'].astype(str)\n",
      "app = CrossFilter.create(df=autompg)\n",
      "\n",
      "document = Document()\n",
      "session = Session()\n",
      "session.use_doc('crossfilter')\n",
      "session.load_document(document)"
     ],
     "language": "python",
     "metadata": {},
     "outputs": [
      {
       "output_type": "stream",
       "stream": "stdout",
       "text": [
        "Using saved session configuration for http://localhost:5006/\n",
        "To override, pass 'load_from_config=False' to Session\n"
       ]
      }
     ],
     "prompt_number": 1
    },
    {
     "cell_type": "code",
     "collapsed": false,
     "input": [
      "app"
     ],
     "language": "python",
     "metadata": {},
     "outputs": [
      {
       "metadata": {},
       "output_type": "pyout",
       "prompt_number": 2,
       "text": [
        "<bokeh.crossfilter.objects.CrossFilter at 0x10553c9d0>"
       ]
      }
     ],
     "prompt_number": 2
    },
    {
     "cell_type": "code",
     "collapsed": false,
     "input": [
      "document.add(app)\n",
      "session.store_document(document)"
     ],
     "language": "python",
     "metadata": {},
     "outputs": [
      {
       "metadata": {},
       "output_type": "pyout",
       "prompt_number": 3,
       "text": [
        "[<bokeh.objects.ResetTool at 0x1056ca3d0>,\n",
        " <bokeh.objects.BasicTickFormatter at 0x1056c3ed0>,\n",
        " <bokeh.objects.BasicTicker at 0x1056c3f90>,\n",
        " <bokeh.objects.BoxSelectionOverlay at 0x1056ca210>,\n",
        " <bokeh.widgetobjects.Select at 0x1056ca4d0>,\n",
        " <bokeh.objects.Grid at 0x1056c3f10>,\n",
        " <bokeh.objects.ColumnDataSource at 0x10553c990>,\n",
        " <bokeh.objects.PreviewSaveTool at 0x1056ca190>,\n",
        " <bokeh.widgetobjects.Select at 0x1056ca410>,\n",
        " <bokeh.objects.WheelZoomTool at 0x1056ca1d0>,\n",
        " <bokeh.objects.PlotContext at 0x10553c750>,\n",
        " <bokeh.widgetobjects.Select at 0x1056ca490>,\n",
        " <bokeh.objects.LinearAxis at 0x1056c3f50>,\n",
        " <bokeh.objects.ColumnDataSource at 0x1055b2c50>,\n",
        " <bokeh.objects.Glyph at 0x104e38cd0>,\n",
        " <bokeh.objects.DataRange1d at 0x1056c3dd0>,\n",
        " <bokeh.objects.BasicTicker at 0x1056c3e90>,\n",
        " <bokeh.widgetobjects.Select at 0x1056ca510>,\n",
        " <bokeh.objects.DataRange1d at 0x1056c3e10>,\n",
        " <bokeh.objects.ResizeTool at 0x1056ca310>,\n",
        " <bokeh.objects.BoxSelectTool at 0x1056ca2d0>,\n",
        " <bokeh.objects.Plot at 0x1056c3d90>,\n",
        " <bokeh.objects.LinearAxis at 0x1056c3e50>,\n",
        " <bokeh.objects.BasicTickFormatter at 0x1056c3fd0>,\n",
        " <bokeh.objects.PanTool at 0x1056ca0d0>,\n",
        " <bokeh.objects.BoxZoomTool at 0x1056ca250>,\n",
        " <bokeh.objects.Grid at 0x1056ca050>,\n",
        " <bokeh.objects.BoxSelectionOverlay at 0x1056ca110>,\n",
        " <bokeh.crossfilter.objects.CrossFilter at 0x10553c9d0>]"
       ]
      }
     ],
     "prompt_number": 3
    },
    {
     "cell_type": "code",
     "collapsed": false,
     "input": [
      "session.show(app)"
     ],
     "language": "python",
     "metadata": {},
     "outputs": [
      {
       "html": [
        "<script\n",
        "    src=\"http://localhost:5006/bokeh/autoload.js/01c6b2bf-4f17-449a-8393-466e66b38fe8\"\n",
        "    id=\"01c6b2bf-4f17-449a-8393-466e66b38fe8\"\n",
        "    async=\"true\"\n",
        "    data-bokeh-data=\"server\"\n",
        "    data-bokeh-modelid=\"ebbddcbe-a3b8-4f9d-abbd-7ae2cd5418e3\"\n",
        "    data-bokeh-modeltype=\"CrossFilter\"\n",
        "    data-bokeh-root-url=\"http://localhost:5006/\"\n",
        "    data-bokeh-docid=\"92ef07d9-2f18-48cd-acef-10313d0b313e\"\n",
        "    data-bokeh-docapikey=\"c4543faa-26df-4997-a989-f322c25a0b09\"\n",
        "    data-bokeh-conn-string=\"ws://localhost:5006/bokeh/sub\"\n",
        "></script>\n"
       ],
       "metadata": {},
       "output_type": "display_data"
      }
     ],
     "prompt_number": 4
    }
   ],
   "metadata": {}
  }
 ]
}